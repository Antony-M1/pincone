{
  "nbformat": 4,
  "nbformat_minor": 0,
  "metadata": {
    "colab": {
      "provenance": [],
      "toc_visible": true,
      "include_colab_link": true
    },
    "kernelspec": {
      "name": "python3",
      "display_name": "Python 3"
    },
    "language_info": {
      "name": "python"
    }
  },
  "cells": [
    {
      "cell_type": "markdown",
      "metadata": {
        "id": "view-in-github",
        "colab_type": "text"
      },
      "source": [
        "<a href=\"https://colab.research.google.com/github/Antony-M1/pincone/blob/main/quick_start.ipynb\" target=\"_parent\"><img src=\"https://colab.research.google.com/assets/colab-badge.svg\" alt=\"Open In Colab\"/></a>"
      ]
    },
    {
      "cell_type": "markdown",
      "source": [
        "# README\n",
        "\n",
        "In this tutorial we are going to see the `Pincone` vector database, how its working how effectively we can use the `Pinecone`. It's completely a cloud service, we can access one node for free with limitted resource.\n",
        "\n",
        "![image](https://datasciencedojo.com/wp-content/uploads/pinecone-1.png)\n",
        "\n",
        "### Basic RAG Flow\n",
        "![image](https://miro.medium.com/v2/resize:fit:4800/format:webp/1*zQj_YJdWc2xKB6Vv89lzDQ.jpeg)\n"
      ],
      "metadata": {
        "id": "205SBMkP_bB2"
      }
    },
    {
      "cell_type": "markdown",
      "source": [
        "# Install Dependencies"
      ],
      "metadata": {
        "id": "DuqawUXVA0li"
      }
    },
    {
      "cell_type": "code",
      "source": [
        "!wget -O requirements.in  https://raw.githubusercontent.com/Antony-M1/pincone/refs/heads/main/requirements.in\n",
        "!wget -O requirements.txt https://raw.githubusercontent.com/Antony-M1/pincone/refs/heads/main/requirements.txt"
      ],
      "metadata": {
        "id": "MzsQkkh8Aclc",
        "colab": {
          "base_uri": "https://localhost:8080/"
        },
        "outputId": "0e198bd6-50dd-497a-dfd1-0769e7ea71ea"
      },
      "execution_count": 1,
      "outputs": [
        {
          "output_type": "stream",
          "name": "stdout",
          "text": [
            "--2024-11-19 13:26:55--  https://raw.githubusercontent.com/Antony-M1/pincone/refs/heads/main/requirements.in\n",
            "Resolving raw.githubusercontent.com (raw.githubusercontent.com)... 185.199.108.133, 185.199.109.133, 185.199.110.133, ...\n",
            "Connecting to raw.githubusercontent.com (raw.githubusercontent.com)|185.199.108.133|:443... connected.\n",
            "HTTP request sent, awaiting response... 200 OK\n",
            "Length: 104 [text/plain]\n",
            "Saving to: ‘requirements.in’\n",
            "\n",
            "\rrequirements.in       0%[                    ]       0  --.-KB/s               \rrequirements.in     100%[===================>]     104  --.-KB/s    in 0s      \n",
            "\n",
            "2024-11-19 13:26:55 (2.51 MB/s) - ‘requirements.in’ saved [104/104]\n",
            "\n",
            "--2024-11-19 13:26:55--  https://raw.githubusercontent.com/Antony-M1/pincone/refs/heads/main/requirements.txt\n",
            "Resolving raw.githubusercontent.com (raw.githubusercontent.com)... 185.199.109.133, 185.199.108.133, 185.199.110.133, ...\n",
            "Connecting to raw.githubusercontent.com (raw.githubusercontent.com)|185.199.109.133|:443... connected.\n",
            "HTTP request sent, awaiting response... 200 OK\n",
            "Length: 2823 (2.8K) [text/plain]\n",
            "Saving to: ‘requirements.txt’\n",
            "\n",
            "requirements.txt    100%[===================>]   2.76K  --.-KB/s    in 0s      \n",
            "\n",
            "2024-11-19 13:26:56 (21.1 MB/s) - ‘requirements.txt’ saved [2823/2823]\n",
            "\n"
          ]
        }
      ]
    },
    {
      "cell_type": "code",
      "source": [
        "import os\n",
        "if os.path.exists('requirements.in'):\n",
        "    !pip install -qqq pip-tools\n",
        "    !pip-compile requirements.in\n",
        "else:\n",
        "    raise Exception(\"requirements.in not found\")"
      ],
      "metadata": {
        "colab": {
          "base_uri": "https://localhost:8080/"
        },
        "id": "hPAcGTTn8GXv",
        "outputId": "600009ce-8ef5-47c7-e233-5924cd1bd809"
      },
      "execution_count": 2,
      "outputs": [
        {
          "output_type": "stream",
          "name": "stdout",
          "text": [
            "\u001b[2K   \u001b[90m━━━━━━━━━━━━━━━━━━━━━━━━━━━━━━━━━━━━━━━━\u001b[0m \u001b[32m61.2/61.2 kB\u001b[0m \u001b[31m1.3 MB/s\u001b[0m eta \u001b[36m0:00:00\u001b[0m\n",
            "\u001b[2K       \u001b[90m━━━━━━━━━━━━━━━━━━━━━━━━━━━━━━━━━━━━━━━━\u001b[0m \u001b[32m149.4/149.4 kB\u001b[0m \u001b[31m3.2 MB/s\u001b[0m eta \u001b[36m0:00:00\u001b[0m\n",
            "\u001b[2K       \u001b[90m━━━━━━━━━━━━━━━━━━━━━━━━━━━━━━━━━━━━━━━━\u001b[0m \u001b[32m57.6/57.6 kB\u001b[0m \u001b[31m3.0 MB/s\u001b[0m eta \u001b[36m0:00:00\u001b[0m\n",
            "\u001b[2K       \u001b[90m━━━━━━━━━━━━━━━━━━━━━━━━━━━━━━━━━━━━━━━━\u001b[0m \u001b[32m61.0/61.0 kB\u001b[0m \u001b[31m4.0 MB/s\u001b[0m eta \u001b[36m0:00:00\u001b[0m\n",
            "\u001b[2K       \u001b[90m━━━━━━━━━━━━━━━━━━━━━━━━━━━━━━━━━━━━━━━━\u001b[0m \u001b[32m64.8/64.8 kB\u001b[0m \u001b[31m4.1 MB/s\u001b[0m eta \u001b[36m0:00:00\u001b[0m\n",
            "\u001b[2K       \u001b[90m━━━━━━━━━━━━━━━━━━━━━━━━━━━━━━━━━━━━━━━━\u001b[0m \u001b[32m50.8/50.8 kB\u001b[0m \u001b[31m2.5 MB/s\u001b[0m eta \u001b[36m0:00:00\u001b[0m\n",
            "\u001b[2K     \u001b[90m━━━━━━━━━━━━━━━━━━━━━━━━━━━━━━━━━━━━━━━━\u001b[0m \u001b[32m108.9/108.9 kB\u001b[0m \u001b[31m6.9 MB/s\u001b[0m eta \u001b[36m0:00:00\u001b[0m\n",
            "\u001b[2K     \u001b[90m━━━━━━━━━━━━━━━━━━━━━━━━━━━━━━━━━━━━━━━━\u001b[0m \u001b[32m427.3/427.3 kB\u001b[0m \u001b[31m13.3 MB/s\u001b[0m eta \u001b[36m0:00:00\u001b[0m\n",
            "\u001b[2K     \u001b[90m━━━━━━━━━━━━━━━━━━━━━━━━━━━━━━━━━━━━━━━━\u001b[0m \u001b[32m1.0/1.0 MB\u001b[0m \u001b[31m27.5 MB/s\u001b[0m eta \u001b[36m0:00:00\u001b[0m\n",
            "\u001b[2K     \u001b[90m━━━━━━━━━━━━━━━━━━━━━━━━━━━━━━━━━━━━━━━━\u001b[0m \u001b[32m1.6/1.6 MB\u001b[0m \u001b[31m39.8 MB/s\u001b[0m eta \u001b[36m0:00:00\u001b[0m\n",
            "\u001b[2K     \u001b[90m━━━━━━━━━━━━━━━━━━━━━━━━━━━━━━━━━━━━━━━━\u001b[0m \u001b[32m90.4/90.4 kB\u001b[0m \u001b[31m5.5 MB/s\u001b[0m eta \u001b[36m0:00:00\u001b[0m\n",
            "\u001b[2K     \u001b[90m━━━━━━━━━━━━━━━━━━━━━━━━━━━━━━━━━━━━━━━━\u001b[0m \u001b[32m167.3/167.3 kB\u001b[0m \u001b[31m10.6 MB/s\u001b[0m eta \u001b[36m0:00:00\u001b[0m\n",
            "\u001b[2K     \u001b[90m━━━━━━━━━━━━━━━━━━━━━━━━━━━━━━━━━━━━━━━━\u001b[0m \u001b[32m76.4/76.4 kB\u001b[0m \u001b[31m4.5 MB/s\u001b[0m eta \u001b[36m0:00:00\u001b[0m\n",
            "\u001b[2K     \u001b[90m━━━━━━━━━━━━━━━━━━━━━━━━━━━━━━━━━━━━━━━━\u001b[0m \u001b[32m78.0/78.0 kB\u001b[0m \u001b[31m5.1 MB/s\u001b[0m eta \u001b[36m0:00:00\u001b[0m\n",
            "\u001b[2K     \u001b[90m━━━━━━━━━━━━━━━━━━━━━━━━━━━━━━━━━━━━━━━━\u001b[0m \u001b[32m409.3/409.3 kB\u001b[0m \u001b[31m20.3 MB/s\u001b[0m eta \u001b[36m0:00:00\u001b[0m\n",
            "\u001b[2K     \u001b[90m━━━━━━━━━━━━━━━━━━━━━━━━━━━━━━━━━━━━━━━━\u001b[0m \u001b[32m307.0/307.0 kB\u001b[0m \u001b[31m17.6 MB/s\u001b[0m eta \u001b[36m0:00:00\u001b[0m\n",
            "\u001b[2K     \u001b[90m━━━━━━━━━━━━━━━━━━━━━━━━━━━━━━━━━━━━━━━━\u001b[0m \u001b[32m18.2/18.2 MB\u001b[0m \u001b[31m11.5 MB/s\u001b[0m eta \u001b[36m0:00:00\u001b[0m\n",
            "\u001b[2K     \u001b[90m━━━━━━━━━━━━━━━━━━━━━━━━━━━━━━━━━━━━━━━━\u001b[0m \u001b[32m215.9/215.9 kB\u001b[0m \u001b[31m10.8 MB/s\u001b[0m eta \u001b[36m0:00:00\u001b[0m\n",
            "\u001b[2K     \u001b[90m━━━━━━━━━━━━━━━━━━━━━━━━━━━━━━━━━━━━━━━━\u001b[0m \u001b[32m84.4/84.4 kB\u001b[0m \u001b[31m4.7 MB/s\u001b[0m eta \u001b[36m0:00:00\u001b[0m\n",
            "\u001b[2K     \u001b[90m━━━━━━━━━━━━━━━━━━━━━━━━━━━━━━━━━━━━━━━━\u001b[0m \u001b[32m434.9/434.9 kB\u001b[0m \u001b[31m17.2 MB/s\u001b[0m eta \u001b[36m0:00:00\u001b[0m\n",
            "\u001b[2K     \u001b[90m━━━━━━━━━━━━━━━━━━━━━━━━━━━━━━━━━━━━━━━━\u001b[0m \u001b[32m2.1/2.1 MB\u001b[0m \u001b[31m47.0 MB/s\u001b[0m eta \u001b[36m0:00:00\u001b[0m\n",
            "\u001b[2K     \u001b[90m━━━━━━━━━━━━━━━━━━━━━━━━━━━━━━━━━━━━━━━━\u001b[0m \u001b[32m229.9/229.9 kB\u001b[0m \u001b[31m11.1 MB/s\u001b[0m eta \u001b[36m0:00:00\u001b[0m\n",
            "\u001b[2K     \u001b[90m━━━━━━━━━━━━━━━━━━━━━━━━━━━━━━━━━━━━━━━━\u001b[0m \u001b[32m751.2/751.2 kB\u001b[0m \u001b[31m24.2 MB/s\u001b[0m eta \u001b[36m0:00:00\u001b[0m\n",
            "\u001b[2K     \u001b[90m━━━━━━━━━━━━━━━━━━━━━━━━━━━━━━━━━━━━━━━━\u001b[0m \u001b[32m64.9/64.9 kB\u001b[0m \u001b[31m3.5 MB/s\u001b[0m eta \u001b[36m0:00:00\u001b[0m\n",
            "\u001b[2K     \u001b[90m━━━━━━━━━━━━━━━━━━━━━━━━━━━━━━━━━━━━━━━━\u001b[0m \u001b[32m341.7/341.7 kB\u001b[0m \u001b[31m16.5 MB/s\u001b[0m eta \u001b[36m0:00:00\u001b[0m\n",
            "\u001b[2K     \u001b[90m━━━━━━━━━━━━━━━━━━━━━━━━━━━━━━━━━━━━━━━━\u001b[0m \u001b[32m3.1/3.1 MB\u001b[0m \u001b[31m35.2 MB/s\u001b[0m eta \u001b[36m0:00:00\u001b[0m\n",
            "\u001b[2K     \u001b[90m━━━━━━━━━━━━━━━━━━━━━━━━━━━━━━━━━━━━━━━━\u001b[0m \u001b[32m78.6/78.6 kB\u001b[0m \u001b[31m4.1 MB/s\u001b[0m eta \u001b[36m0:00:00\u001b[0m\n",
            "\u001b[2K     \u001b[90m━━━━━━━━━━━━━━━━━━━━━━━━━━━━━━━━━━━━━━━━\u001b[0m \u001b[32m126.3/126.3 kB\u001b[0m \u001b[31m6.3 MB/s\u001b[0m eta \u001b[36m0:00:00\u001b[0m\n",
            "\u001b[2K     \u001b[90m━━━━━━━━━━━━━━━━━━━━━━━━━━━━━━━━━━━━━━━━\u001b[0m \u001b[32m63.0/63.0 kB\u001b[0m \u001b[31m3.1 MB/s\u001b[0m eta \u001b[36m0:00:00\u001b[0m\n",
            "\u001b[2K     \u001b[90m━━━━━━━━━━━━━━━━━━━━━━━━━━━━━━━━━━━━━━━━\u001b[0m \u001b[32m144.8/144.8 kB\u001b[0m \u001b[31m9.8 MB/s\u001b[0m eta \u001b[36m0:00:00\u001b[0m\n",
            "\u001b[2K     \u001b[90m━━━━━━━━━━━━━━━━━━━━━━━━━━━━━━━━━━━━━━━━\u001b[0m \u001b[32m241.9/241.9 kB\u001b[0m \u001b[31m12.7 MB/s\u001b[0m eta \u001b[36m0:00:00\u001b[0m\n",
            "\u001b[2K     \u001b[90m━━━━━━━━━━━━━━━━━━━━━━━━━━━━━━━━━━━━━━━━\u001b[0m \u001b[32m599.5/599.5 kB\u001b[0m \u001b[31m24.6 MB/s\u001b[0m eta \u001b[36m0:00:00\u001b[0m\n",
            "\u001b[2K     \u001b[90m━━━━━━━━━━━━━━━━━━━━━━━━━━━━━━━━━━━━━━━━\u001b[0m \u001b[32m70.4/70.4 kB\u001b[0m \u001b[31m3.9 MB/s\u001b[0m eta \u001b[36m0:00:00\u001b[0m\n",
            "\u001b[2K     \u001b[90m━━━━━━━━━━━━━━━━━━━━━━━━━━━━━━━━━━━━━━━━\u001b[0m \u001b[32m124.6/124.6 kB\u001b[0m \u001b[31m7.6 MB/s\u001b[0m eta \u001b[36m0:00:00\u001b[0m\n",
            "\u001b[2K     \u001b[90m━━━━━━━━━━━━━━━━━━━━━━━━━━━━━━━━━━━━━━━━\u001b[0m \u001b[32m142.5/142.5 kB\u001b[0m \u001b[31m6.7 MB/s\u001b[0m eta \u001b[36m0:00:00\u001b[0m\n",
            "\u001b[2K     \u001b[90m━━━━━━━━━━━━━━━━━━━━━━━━━━━━━━━━━━━━━━━━\u001b[0m \u001b[32m65.5/65.5 kB\u001b[0m \u001b[31m3.2 MB/s\u001b[0m eta \u001b[36m0:00:00\u001b[0m\n",
            "\u001b[2K     \u001b[90m━━━━━━━━━━━━━━━━━━━━━━━━━━━━━━━━━━━━━━━━\u001b[0m \u001b[32m208.9/208.9 kB\u001b[0m \u001b[31m12.1 MB/s\u001b[0m eta \u001b[36m0:00:00\u001b[0m\n",
            "\u001b[2K     \u001b[90m━━━━━━━━━━━━━━━━━━━━━━━━━━━━━━━━━━━━━━━━\u001b[0m \u001b[32m54.5/54.5 kB\u001b[0m \u001b[31m3.2 MB/s\u001b[0m eta \u001b[36m0:00:00\u001b[0m\n",
            "\u001b[2K     \u001b[90m━━━━━━━━━━━━━━━━━━━━━━━━━━━━━━━━━━━━━━━━\u001b[0m \u001b[32m318.7/318.7 kB\u001b[0m \u001b[31m14.8 MB/s\u001b[0m eta \u001b[36m0:00:00\u001b[0m\n",
            "\u001b[2K     \u001b[90m━━━━━━━━━━━━━━━━━━━━━━━━━━━━━━━━━━━━━━━━\u001b[0m \u001b[32m58.3/58.3 kB\u001b[0m \u001b[31m2.9 MB/s\u001b[0m eta \u001b[36m0:00:00\u001b[0m\n",
            "\u001b[?25h\u001b[33mWARNING: --strip-extras is becoming the default in version 8.0.0. To silence this warning, either use --strip-extras to opt into the new default or use --no-strip-extras to retain the existing behavior.\u001b[0m\n",
            "\u001b[32m#\u001b[0m\u001b[0m\n",
            "\u001b[32m# This file is autogenerated by pip-compile with Python 3.10\u001b[0m\u001b[0m\n",
            "\u001b[32m# by the following command:\u001b[0m\u001b[0m\n",
            "\u001b[32m#\u001b[0m\u001b[0m\n",
            "\u001b[32m#    pip-compile requirements.in\u001b[0m\u001b[0m\n",
            "\u001b[32m#\u001b[0m\u001b[0m\n",
            "aiohappyeyeballs==2.4.3\n",
            "    \u001b[32m# via aiohttp\u001b[0m\u001b[0m\n",
            "aiohttp==3.11.0\n",
            "    \u001b[32m# via langchain\u001b[0m\u001b[0m\n",
            "aiosignal==1.3.1\n",
            "    \u001b[32m# via aiohttp\u001b[0m\u001b[0m\n",
            "annotated-types==0.7.0\n",
            "    \u001b[32m# via pydantic\u001b[0m\u001b[0m\n",
            "anyio==4.6.2.post1\n",
            "    \u001b[32m# via\n",
            "    #   groq\n",
            "    #   httpx\u001b[0m\u001b[0m\n",
            "async-timeout==4.0.3\n",
            "    \u001b[32m# via\n",
            "    #   aiohttp\n",
            "    #   langchain\u001b[0m\u001b[0m\n",
            "attrs==24.2.0\n",
            "    \u001b[32m# via aiohttp\u001b[0m\u001b[0m\n",
            "certifi==2024.8.30\n",
            "    \u001b[32m# via\n",
            "    #   httpcore\n",
            "    #   httpx\n",
            "    #   pinecone\n",
            "    #   pinecone-client\n",
            "    #   requests\u001b[0m\u001b[0m\n",
            "charset-normalizer==3.4.0\n",
            "    \u001b[32m# via requests\u001b[0m\u001b[0m\n",
            "distro==1.9.0\n",
            "    \u001b[32m# via groq\u001b[0m\u001b[0m\n",
            "exceptiongroup==1.2.2\n",
            "    \u001b[32m# via anyio\u001b[0m\u001b[0m\n",
            "frozenlist==1.5.0\n",
            "    \u001b[32m# via\n",
            "    #   aiohttp\n",
            "    #   aiosignal\u001b[0m\u001b[0m\n",
            "greenlet==3.1.1\n",
            "    \u001b[32m# via sqlalchemy\u001b[0m\u001b[0m\n",
            "groq==0.12.0\n",
            "    \u001b[32m# via -r requirements.in\u001b[0m\u001b[0m\n",
            "h11==0.14.0\n",
            "    \u001b[32m# via httpcore\u001b[0m\u001b[0m\n",
            "httpcore==1.0.6\n",
            "    \u001b[32m# via httpx\u001b[0m\u001b[0m\n",
            "httpx==0.27.2\n",
            "    \u001b[32m# via\n",
            "    #   groq\n",
            "    #   langsmith\u001b[0m\u001b[0m\n",
            "idna==3.10\n",
            "    \u001b[32m# via\n",
            "    #   anyio\n",
            "    #   httpx\n",
            "    #   requests\n",
            "    #   yarl\u001b[0m\u001b[0m\n",
            "jsonpatch==1.33\n",
            "    \u001b[32m# via langchain-core\u001b[0m\u001b[0m\n",
            "jsonpointer==3.0.0\n",
            "    \u001b[32m# via jsonpatch\u001b[0m\u001b[0m\n",
            "langchain==0.3.7\n",
            "    \u001b[32m# via -r requirements.in\u001b[0m\u001b[0m\n",
            "langchain-core==0.3.18\n",
            "    \u001b[32m# via\n",
            "    #   langchain\n",
            "    #   langchain-pinecone\n",
            "    #   langchain-text-splitters\u001b[0m\u001b[0m\n",
            "langchain-pinecone==0.0.1\n",
            "    \u001b[32m# via -r requirements.in\u001b[0m\u001b[0m\n",
            "langchain-text-splitters==0.3.2\n",
            "    \u001b[32m# via\n",
            "    #   -r requirements.in\n",
            "    #   langchain\u001b[0m\u001b[0m\n",
            "langsmith==0.1.143\n",
            "    \u001b[32m# via\n",
            "    #   langchain\n",
            "    #   langchain-core\u001b[0m\u001b[0m\n",
            "multidict==6.1.0\n",
            "    \u001b[32m# via\n",
            "    #   aiohttp\n",
            "    #   yarl\u001b[0m\u001b[0m\n",
            "numpy==1.26.4\n",
            "    \u001b[32m# via\n",
            "    #   langchain\n",
            "    #   langchain-pinecone\u001b[0m\u001b[0m\n",
            "orjson==3.10.11\n",
            "    \u001b[32m# via langsmith\u001b[0m\u001b[0m\n",
            "packaging==24.2\n",
            "    \u001b[32m# via langchain-core\u001b[0m\u001b[0m\n",
            "pinecone==5.4.0\n",
            "    \u001b[32m# via -r requirements.in\u001b[0m\u001b[0m\n",
            "pinecone-client==3.2.2\n",
            "    \u001b[32m# via langchain-pinecone\u001b[0m\u001b[0m\n",
            "pinecone-plugin-inference==2.0.1\n",
            "    \u001b[32m# via pinecone\u001b[0m\u001b[0m\n",
            "pinecone-plugin-interface==0.0.7\n",
            "    \u001b[32m# via\n",
            "    #   pinecone\n",
            "    #   pinecone-plugin-inference\u001b[0m\u001b[0m\n",
            "propcache==0.2.0\n",
            "    \u001b[32m# via\n",
            "    #   aiohttp\n",
            "    #   yarl\u001b[0m\u001b[0m\n",
            "pydantic==2.9.2\n",
            "    \u001b[32m# via\n",
            "    #   groq\n",
            "    #   langchain\n",
            "    #   langchain-core\n",
            "    #   langsmith\u001b[0m\u001b[0m\n",
            "pydantic-core==2.23.4\n",
            "    \u001b[32m# via pydantic\u001b[0m\u001b[0m\n",
            "python-dateutil==2.9.0.post0\n",
            "    \u001b[32m# via pinecone\u001b[0m\u001b[0m\n",
            "pyyaml==6.0.2\n",
            "    \u001b[32m# via\n",
            "    #   langchain\n",
            "    #   langchain-core\u001b[0m\u001b[0m\n",
            "requests==2.32.3\n",
            "    \u001b[32m# via\n",
            "    #   langchain\n",
            "    #   langsmith\n",
            "    #   requests-toolbelt\u001b[0m\u001b[0m\n",
            "requests-toolbelt==1.0.0\n",
            "    \u001b[32m# via langsmith\u001b[0m\u001b[0m\n",
            "simsimd==3.9.0\n",
            "    \u001b[32m# via langchain-pinecone\u001b[0m\u001b[0m\n",
            "six==1.16.0\n",
            "    \u001b[32m# via python-dateutil\u001b[0m\u001b[0m\n",
            "sniffio==1.3.1\n",
            "    \u001b[32m# via\n",
            "    #   anyio\n",
            "    #   groq\n",
            "    #   httpx\u001b[0m\u001b[0m\n",
            "sqlalchemy==2.0.36\n",
            "    \u001b[32m# via langchain\u001b[0m\u001b[0m\n",
            "tenacity==9.0.0\n",
            "    \u001b[32m# via\n",
            "    #   langchain\n",
            "    #   langchain-core\u001b[0m\u001b[0m\n",
            "tqdm==4.67.0\n",
            "    \u001b[32m# via\n",
            "    #   pinecone\n",
            "    #   pinecone-client\u001b[0m\u001b[0m\n",
            "typing-extensions==4.12.2\n",
            "    \u001b[32m# via\n",
            "    #   anyio\n",
            "    #   groq\n",
            "    #   langchain-core\n",
            "    #   multidict\n",
            "    #   pinecone\n",
            "    #   pinecone-client\n",
            "    #   pydantic\n",
            "    #   pydantic-core\n",
            "    #   sqlalchemy\u001b[0m\u001b[0m\n",
            "urllib3==2.2.3\n",
            "    \u001b[32m# via\n",
            "    #   pinecone\n",
            "    #   pinecone-client\n",
            "    #   requests\u001b[0m\u001b[0m\n",
            "yarl==1.17.1\n",
            "    \u001b[32m# via aiohttp\u001b[0m\u001b[0m\n"
          ]
        }
      ]
    },
    {
      "cell_type": "code",
      "source": [
        "!pip install -q --no-cache-dir --ignore-installed -r requirements.txt"
      ],
      "metadata": {
        "id": "1Iy9OTeu-bbv",
        "colab": {
          "base_uri": "https://localhost:8080/"
        },
        "outputId": "b1fd74ae-888b-4fdd-fcc4-26e44460ca7b"
      },
      "execution_count": 3,
      "outputs": [
        {
          "output_type": "stream",
          "name": "stdout",
          "text": [
            "\u001b[2K     \u001b[90m━━━━━━━━━━━━━━━━━━━━━━━━━━━━━━━━━━━━━━━━\u001b[0m \u001b[32m61.0/61.0 kB\u001b[0m \u001b[31m159.5 MB/s\u001b[0m eta \u001b[36m0:00:00\u001b[0m\n",
            "\u001b[2K     \u001b[90m━━━━━━━━━━━━━━━━━━━━━━━━━━━━━━━━━━━━━━━━\u001b[0m \u001b[32m50.8/50.8 kB\u001b[0m \u001b[31m85.0 MB/s\u001b[0m eta \u001b[36m0:00:00\u001b[0m\n",
            "\u001b[2K     \u001b[90m━━━━━━━━━━━━━━━━━━━━━━━━━━━━━━━━━━━━━━━━\u001b[0m \u001b[32m149.4/149.4 kB\u001b[0m \u001b[31m17.5 MB/s\u001b[0m eta \u001b[36m0:00:00\u001b[0m\n",
            "\u001b[2K     \u001b[90m━━━━━━━━━━━━━━━━━━━━━━━━━━━━━━━━━━━━━━━━\u001b[0m \u001b[32m57.6/57.6 kB\u001b[0m \u001b[31m191.0 MB/s\u001b[0m eta \u001b[36m0:00:00\u001b[0m\n",
            "\u001b[2K     \u001b[90m━━━━━━━━━━━━━━━━━━━━━━━━━━━━━━━━━━━━━━━━\u001b[0m \u001b[32m64.8/64.8 kB\u001b[0m \u001b[31m103.6 MB/s\u001b[0m eta \u001b[36m0:00:00\u001b[0m\n",
            "\u001b[2K   \u001b[90m━━━━━━━━━━━━━━━━━━━━━━━━━━━━━━━━━━━━━━━━\u001b[0m \u001b[32m1.6/1.6 MB\u001b[0m \u001b[31m57.8 MB/s\u001b[0m eta \u001b[36m0:00:00\u001b[0m\n",
            "\u001b[2K   \u001b[90m━━━━━━━━━━━━━━━━━━━━━━━━━━━━━━━━━━━━━━━━\u001b[0m \u001b[32m90.4/90.4 kB\u001b[0m \u001b[31m235.7 MB/s\u001b[0m eta \u001b[36m0:00:00\u001b[0m\n",
            "\u001b[2K   \u001b[90m━━━━━━━━━━━━━━━━━━━━━━━━━━━━━━━━━━━━━━━━\u001b[0m \u001b[32m63.0/63.0 kB\u001b[0m \u001b[31m178.0 MB/s\u001b[0m eta \u001b[36m0:00:00\u001b[0m\n",
            "\u001b[2K   \u001b[90m━━━━━━━━━━━━━━━━━━━━━━━━━━━━━━━━━━━━━━━━\u001b[0m \u001b[32m167.3/167.3 kB\u001b[0m \u001b[31m206.5 MB/s\u001b[0m eta \u001b[36m0:00:00\u001b[0m\n",
            "\u001b[2K   \u001b[90m━━━━━━━━━━━━━━━━━━━━━━━━━━━━━━━━━━━━━━━━\u001b[0m \u001b[32m144.8/144.8 kB\u001b[0m \u001b[31m234.6 MB/s\u001b[0m eta \u001b[36m0:00:00\u001b[0m\n",
            "\u001b[2K   \u001b[90m━━━━━━━━━━━━━━━━━━━━━━━━━━━━━━━━━━━━━━━━\u001b[0m \u001b[32m241.9/241.9 kB\u001b[0m \u001b[31m257.5 MB/s\u001b[0m eta \u001b[36m0:00:00\u001b[0m\n",
            "\u001b[2K   \u001b[90m━━━━━━━━━━━━━━━━━━━━━━━━━━━━━━━━━━━━━━━━\u001b[0m \u001b[32m599.5/599.5 kB\u001b[0m \u001b[31m283.5 MB/s\u001b[0m eta \u001b[36m0:00:00\u001b[0m\n",
            "\u001b[2K   \u001b[90m━━━━━━━━━━━━━━━━━━━━━━━━━━━━━━━━━━━━━━━━\u001b[0m \u001b[32m108.9/108.9 kB\u001b[0m \u001b[31m243.3 MB/s\u001b[0m eta \u001b[36m0:00:00\u001b[0m\n",
            "\u001b[2K   \u001b[90m━━━━━━━━━━━━━━━━━━━━━━━━━━━━━━━━━━━━━━━━\u001b[0m \u001b[32m58.3/58.3 kB\u001b[0m \u001b[31m65.7 MB/s\u001b[0m eta \u001b[36m0:00:00\u001b[0m\n",
            "\u001b[2K   \u001b[90m━━━━━━━━━━━━━━━━━━━━━━━━━━━━━━━━━━━━━━━━\u001b[0m \u001b[32m78.0/78.0 kB\u001b[0m \u001b[31m189.2 MB/s\u001b[0m eta \u001b[36m0:00:00\u001b[0m\n",
            "\u001b[2K   \u001b[90m━━━━━━━━━━━━━━━━━━━━━━━━━━━━━━━━━━━━━━━━\u001b[0m \u001b[32m76.4/76.4 kB\u001b[0m \u001b[31m212.4 MB/s\u001b[0m eta \u001b[36m0:00:00\u001b[0m\n",
            "\u001b[2K   \u001b[90m━━━━━━━━━━━━━━━━━━━━━━━━━━━━━━━━━━━━━━━━\u001b[0m \u001b[32m70.4/70.4 kB\u001b[0m \u001b[31m189.9 MB/s\u001b[0m eta \u001b[36m0:00:00\u001b[0m\n",
            "\u001b[2K   \u001b[90m━━━━━━━━━━━━━━━━━━━━━━━━━━━━━━━━━━━━━━━━\u001b[0m \u001b[32m1.0/1.0 MB\u001b[0m \u001b[31m303.6 MB/s\u001b[0m eta \u001b[36m0:00:00\u001b[0m\n",
            "\u001b[2K   \u001b[90m━━━━━━━━━━━━━━━━━━━━━━━━━━━━━━━━━━━━━━━━\u001b[0m \u001b[32m409.3/409.3 kB\u001b[0m \u001b[31m233.7 MB/s\u001b[0m eta \u001b[36m0:00:00\u001b[0m\n",
            "\u001b[2K   \u001b[90m━━━━━━━━━━━━━━━━━━━━━━━━━━━━━━━━━━━━━━━━\u001b[0m \u001b[32m307.0/307.0 kB\u001b[0m \u001b[31m279.2 MB/s\u001b[0m eta \u001b[36m0:00:00\u001b[0m\n",
            "\u001b[2K   \u001b[90m━━━━━━━━━━━━━━━━━━━━━━━━━━━━━━━━━━━━━━━━\u001b[0m \u001b[32m124.6/124.6 kB\u001b[0m \u001b[31m228.2 MB/s\u001b[0m eta \u001b[36m0:00:00\u001b[0m\n",
            "\u001b[2K   \u001b[90m━━━━━━━━━━━━━━━━━━━━━━━━━━━━━━━━━━━━━━━━\u001b[0m \u001b[32m18.2/18.2 MB\u001b[0m \u001b[31m229.8 MB/s\u001b[0m eta \u001b[36m0:00:00\u001b[0m\n",
            "\u001b[2K   \u001b[90m━━━━━━━━━━━━━━━━━━━━━━━━━━━━━━━━━━━━━━━━\u001b[0m \u001b[32m142.5/142.5 kB\u001b[0m \u001b[31m212.1 MB/s\u001b[0m eta \u001b[36m0:00:00\u001b[0m\n",
            "\u001b[2K   \u001b[90m━━━━━━━━━━━━━━━━━━━━━━━━━━━━━━━━━━━━━━━━\u001b[0m \u001b[32m65.5/65.5 kB\u001b[0m \u001b[31m155.0 MB/s\u001b[0m eta \u001b[36m0:00:00\u001b[0m\n",
            "\u001b[2K   \u001b[90m━━━━━━━━━━━━━━━━━━━━━━━━━━━━━━━━━━━━━━━━\u001b[0m \u001b[32m427.3/427.3 kB\u001b[0m \u001b[31m300.9 MB/s\u001b[0m eta \u001b[36m0:00:00\u001b[0m\n",
            "\u001b[2K   \u001b[90m━━━━━━━━━━━━━━━━━━━━━━━━━━━━━━━━━━━━━━━━\u001b[0m \u001b[32m215.9/215.9 kB\u001b[0m \u001b[31m291.3 MB/s\u001b[0m eta \u001b[36m0:00:00\u001b[0m\n",
            "\u001b[2K   \u001b[90m━━━━━━━━━━━━━━━━━━━━━━━━━━━━━━━━━━━━━━━━\u001b[0m \u001b[32m84.4/84.4 kB\u001b[0m \u001b[31m237.4 MB/s\u001b[0m eta \u001b[36m0:00:00\u001b[0m\n",
            "\u001b[2K   \u001b[90m━━━━━━━━━━━━━━━━━━━━━━━━━━━━━━━━━━━━━━━━\u001b[0m \u001b[32m208.9/208.9 kB\u001b[0m \u001b[31m283.3 MB/s\u001b[0m eta \u001b[36m0:00:00\u001b[0m\n",
            "\u001b[2K   \u001b[90m━━━━━━━━━━━━━━━━━━━━━━━━━━━━━━━━━━━━━━━━\u001b[0m \u001b[32m434.9/434.9 kB\u001b[0m \u001b[31m305.5 MB/s\u001b[0m eta \u001b[36m0:00:00\u001b[0m\n",
            "\u001b[2K   \u001b[90m━━━━━━━━━━━━━━━━━━━━━━━━━━━━━━━━━━━━━━━━\u001b[0m \u001b[32m2.1/2.1 MB\u001b[0m \u001b[31m307.5 MB/s\u001b[0m eta \u001b[36m0:00:00\u001b[0m\n",
            "\u001b[2K   \u001b[90m━━━━━━━━━━━━━━━━━━━━━━━━━━━━━━━━━━━━━━━━\u001b[0m \u001b[32m229.9/229.9 kB\u001b[0m \u001b[31m276.0 MB/s\u001b[0m eta \u001b[36m0:00:00\u001b[0m\n",
            "\u001b[2K   \u001b[90m━━━━━━━━━━━━━━━━━━━━━━━━━━━━━━━━━━━━━━━━\u001b[0m \u001b[32m751.2/751.2 kB\u001b[0m \u001b[31m305.1 MB/s\u001b[0m eta \u001b[36m0:00:00\u001b[0m\n",
            "\u001b[2K   \u001b[90m━━━━━━━━━━━━━━━━━━━━━━━━━━━━━━━━━━━━━━━━\u001b[0m \u001b[32m64.9/64.9 kB\u001b[0m \u001b[31m234.4 MB/s\u001b[0m eta \u001b[36m0:00:00\u001b[0m\n",
            "\u001b[2K   \u001b[90m━━━━━━━━━━━━━━━━━━━━━━━━━━━━━━━━━━━━━━━━\u001b[0m \u001b[32m54.5/54.5 kB\u001b[0m \u001b[31m165.4 MB/s\u001b[0m eta \u001b[36m0:00:00\u001b[0m\n",
            "\u001b[2K   \u001b[90m━━━━━━━━━━━━━━━━━━━━━━━━━━━━━━━━━━━━━━━━\u001b[0m \u001b[32m341.7/341.7 kB\u001b[0m \u001b[31m202.1 MB/s\u001b[0m eta \u001b[36m0:00:00\u001b[0m\n",
            "\u001b[2K   \u001b[90m━━━━━━━━━━━━━━━━━━━━━━━━━━━━━━━━━━━━━━━━\u001b[0m \u001b[32m3.1/3.1 MB\u001b[0m \u001b[31m286.3 MB/s\u001b[0m eta \u001b[36m0:00:00\u001b[0m\n",
            "\u001b[2K   \u001b[90m━━━━━━━━━━━━━━━━━━━━━━━━━━━━━━━━━━━━━━━━\u001b[0m \u001b[32m78.6/78.6 kB\u001b[0m \u001b[31m232.7 MB/s\u001b[0m eta \u001b[36m0:00:00\u001b[0m\n",
            "\u001b[2K   \u001b[90m━━━━━━━━━━━━━━━━━━━━━━━━━━━━━━━━━━━━━━━━\u001b[0m \u001b[32m126.3/126.3 kB\u001b[0m \u001b[31m257.4 MB/s\u001b[0m eta \u001b[36m0:00:00\u001b[0m\n",
            "\u001b[2K   \u001b[90m━━━━━━━━━━━━━━━━━━━━━━━━━━━━━━━━━━━━━━━━\u001b[0m \u001b[32m318.7/318.7 kB\u001b[0m \u001b[31m284.7 MB/s\u001b[0m eta \u001b[36m0:00:00\u001b[0m\n",
            "\u001b[?25h\u001b[31mERROR: pip's dependency resolver does not currently take into account all the packages that are installed. This behaviour is the source of the following dependency conflicts.\n",
            "jupyter-server 1.24.0 requires anyio<4,>=3.1.0, but you have anyio 4.6.2.post1 which is incompatible.\u001b[0m\u001b[31m\n",
            "\u001b[0m"
          ]
        }
      ]
    },
    {
      "cell_type": "code",
      "source": [
        "!pip install --no-cache-dir langchain-groq==0.2.1 --no-deps # Langchain GROQ through lots of conflict\n",
        "!pip install --no-cache-dir langchain-pinecone==0.2.0 --no-deps # pip-tools package choosed very old version"
      ],
      "metadata": {
        "colab": {
          "base_uri": "https://localhost:8080/"
        },
        "id": "LsaAqNlwC-fJ",
        "outputId": "6c504a62-b3dd-418b-8e9c-e839dae01e5d"
      },
      "execution_count": 4,
      "outputs": [
        {
          "output_type": "stream",
          "name": "stdout",
          "text": [
            "Collecting langchain-groq==0.2.1\n",
            "  Downloading langchain_groq-0.2.1-py3-none-any.whl.metadata (2.9 kB)\n",
            "Downloading langchain_groq-0.2.1-py3-none-any.whl (14 kB)\n",
            "Installing collected packages: langchain-groq\n",
            "Successfully installed langchain-groq-0.2.1\n",
            "Collecting langchain-pinecone==0.2.0\n",
            "  Downloading langchain_pinecone-0.2.0-py3-none-any.whl.metadata (1.7 kB)\n",
            "Downloading langchain_pinecone-0.2.0-py3-none-any.whl (11 kB)\n",
            "Installing collected packages: langchain-pinecone\n",
            "  Attempting uninstall: langchain-pinecone\n",
            "    Found existing installation: langchain-pinecone 0.0.1\n",
            "    Uninstalling langchain-pinecone-0.0.1:\n",
            "      Successfully uninstalled langchain-pinecone-0.0.1\n",
            "Successfully installed langchain-pinecone-0.2.0\n"
          ]
        }
      ]
    },
    {
      "cell_type": "markdown",
      "source": [
        "# Import Package"
      ],
      "metadata": {
        "id": "daKECroOFymX"
      }
    },
    {
      "cell_type": "code",
      "source": [
        "import os\n",
        "import time\n",
        "import uuid\n",
        "import traceback\n",
        "# from pinecone.grpc import PineconeGRPC\n",
        "from pinecone import Pinecone, ServerlessSpec, PodSpec\n",
        "\n",
        "from langchain_text_splitters import MarkdownHeaderTextSplitter\n",
        "from langchain_pinecone.embeddings import PineconeEmbeddings\n",
        "from langchain_pinecone import PineconeVectorStore\n",
        "from langchain_groq import ChatGroq\n",
        "from langchain.chains import create_retrieval_chain\n",
        "from langchain.chains.combine_documents import create_stuff_documents_chain\n",
        "from langchain import hub"
      ],
      "metadata": {
        "id": "NbV8i3hgF20g"
      },
      "execution_count": 15,
      "outputs": []
    },
    {
      "cell_type": "code",
      "source": [
        "from google.colab import userdata\n",
        "os.environ['PINECONE_API_KEY'] = userdata.get('PINECONE_API_KEY')\n",
        "os.environ['GROQ_API_KEY'] = userdata.get('GROQ_API_KEY')"
      ],
      "metadata": {
        "id": "bK_NMLA-F5N4"
      },
      "execution_count": 6,
      "outputs": []
    },
    {
      "cell_type": "markdown",
      "source": [
        "# [Pinecone Database quickstart](https://docs.pinecone.io/guides/get-started/quickstart)"
      ],
      "metadata": {
        "id": "FWg6y8x6IcUS"
      }
    },
    {
      "cell_type": "code",
      "source": [
        "index_name = \"example-index-001\"\n",
        "embed_model_name = \"multilingual-e5-large\"\n",
        "embed_dimension = 1024"
      ],
      "metadata": {
        "id": "_ZhkLPYb2ij9"
      },
      "execution_count": null,
      "outputs": []
    },
    {
      "cell_type": "markdown",
      "source": [
        "## [Generate Vectors](https://docs.pinecone.io/guides/get-started/quickstart#3-generate-vectors)"
      ],
      "metadata": {
        "id": "2EoGm9EAGyrR"
      }
    },
    {
      "cell_type": "code",
      "source": [
        "pc = Pinecone(api_key=os.getenv('PINECONE_API_KEY'))"
      ],
      "metadata": {
        "id": "0T9f0cnRGwXx"
      },
      "execution_count": null,
      "outputs": []
    },
    {
      "cell_type": "code",
      "source": [
        "data = [\n",
        "    {\"id\": \"vec1\", \"text\": \"Apple is a popular fruit known for its sweetness and crisp texture.\"},\n",
        "    {\"id\": \"vec2\", \"text\": \"The tech company Apple is known for its innovative products like the iPhone.\"},\n",
        "    {\"id\": \"vec3\", \"text\": \"Many people enjoy eating apples as a healthy snack.\"},\n",
        "    {\"id\": \"vec4\", \"text\": \"Apple Inc. has revolutionized the tech industry with its sleek designs and user-friendly interfaces.\"},\n",
        "    {\"id\": \"vec5\", \"text\": \"An apple a day keeps the doctor away, as the saying goes.\"},\n",
        "    {\"id\": \"vec6\", \"text\": \"Apple Computer Company was founded on April 1, 1976, by Steve Jobs, Steve Wozniak, and Ronald Wayne as a partnership.\"}\n",
        "]\n",
        "\n",
        "embeddings = pc.inference.embed(\n",
        "    model=embed_model_name,\n",
        "    inputs=[d['text'] for d in data],\n",
        "    parameters={\"input_type\": \"passage\", \"truncate\": \"END\"}\n",
        ")\n",
        "\n",
        "print(embeddings)"
      ],
      "metadata": {
        "colab": {
          "base_uri": "https://localhost:8080/",
          "height": 211
        },
        "id": "yVCpdP7UHPUF",
        "outputId": "4b92024f-d206-4ca8-9216-6bc3291e23b6"
      },
      "execution_count": null,
      "outputs": [
        {
          "output_type": "error",
          "ename": "NameError",
          "evalue": "name 'pc' is not defined",
          "traceback": [
            "\u001b[0;31m---------------------------------------------------------------------------\u001b[0m",
            "\u001b[0;31mNameError\u001b[0m                                 Traceback (most recent call last)",
            "\u001b[0;32m<ipython-input-29-0c7da7869692>\u001b[0m in \u001b[0;36m<cell line: 10>\u001b[0;34m()\u001b[0m\n\u001b[1;32m      8\u001b[0m ]\n\u001b[1;32m      9\u001b[0m \u001b[0;34m\u001b[0m\u001b[0m\n\u001b[0;32m---> 10\u001b[0;31m embeddings = pc.inference.embed(\n\u001b[0m\u001b[1;32m     11\u001b[0m     \u001b[0mmodel\u001b[0m\u001b[0;34m=\u001b[0m\u001b[0membed_model_name\u001b[0m\u001b[0;34m,\u001b[0m\u001b[0;34m\u001b[0m\u001b[0;34m\u001b[0m\u001b[0m\n\u001b[1;32m     12\u001b[0m     \u001b[0minputs\u001b[0m\u001b[0;34m=\u001b[0m\u001b[0;34m[\u001b[0m\u001b[0md\u001b[0m\u001b[0;34m[\u001b[0m\u001b[0;34m'text'\u001b[0m\u001b[0;34m]\u001b[0m \u001b[0;32mfor\u001b[0m \u001b[0md\u001b[0m \u001b[0;32min\u001b[0m \u001b[0mdata\u001b[0m\u001b[0;34m]\u001b[0m\u001b[0;34m,\u001b[0m\u001b[0;34m\u001b[0m\u001b[0;34m\u001b[0m\u001b[0m\n",
            "\u001b[0;31mNameError\u001b[0m: name 'pc' is not defined"
          ]
        }
      ]
    },
    {
      "cell_type": "markdown",
      "source": [
        "## [Create an index](https://docs.pinecone.io/guides/get-started/quickstart#4-create-an-index)\n",
        "\n",
        "**What is Index?**\n",
        "\n",
        "  In pinecone (most of the vector database) we store the data in the `Index`\n",
        "\n",
        "---\n",
        "Create a serverless index that matches the dimension `1024` and similarity metric `cosine` of the `multilingual-e5-large` model you used in the previous step, and choose a cloud and redion for hosting the index."
      ],
      "metadata": {
        "id": "M3Sd_kt2IlNr"
      }
    },
    {
      "cell_type": "code",
      "source": [
        "\n",
        "if not pc.has_index(index_name):\n",
        "    pc.create_index(\n",
        "        name=index_name,\n",
        "        dimension=embed_dimension,\n",
        "        metric=\"cosine\",\n",
        "        spec=ServerlessSpec(\n",
        "            cloud=\"aws\",\n",
        "            region=\"us-east-1\"\n",
        "        )\n",
        "    )\n",
        "\n",
        "\n",
        "while not pc.describe_index(index_name).status['ready']:\n",
        "    time.sleep(1)\n",
        "\n",
        "print(\"Created Successfully\")"
      ],
      "metadata": {
        "colab": {
          "base_uri": "https://localhost:8080/"
        },
        "id": "i0HnxsupIsUc",
        "outputId": "ae563a62-fc6d-436e-9316-afc9e3f5f993"
      },
      "execution_count": null,
      "outputs": [
        {
          "output_type": "stream",
          "name": "stdout",
          "text": [
            "Created Successfully\n"
          ]
        }
      ]
    },
    {
      "cell_type": "markdown",
      "source": [
        "## [Upsert Vectors](https://docs.pinecone.io/guides/get-started/quickstart#5-upsert-vectors)\n",
        "\n",
        "\n",
        "Target your index and use the `upsert` operation to load your vector embeddings into a new namespace. `Namespaces` let you partition records within an index and are essential for `implementing multitenancy` when you need to isolate the data of each customer/user.\n"
      ],
      "metadata": {
        "id": "mKed2QDYRdnk"
      }
    },
    {
      "cell_type": "code",
      "source": [
        "\n",
        "index = pc.Index(index_name)\n",
        "uuid_static = str(uuid.uuid4())\n",
        "records = []\n",
        "for d, e in zip(data, embeddings):\n",
        "    records.append({\n",
        "        \"id\": d['id'], # Standard Field\n",
        "        \"values\": e['values'], # Standard Field (contains the vector embeddings)\n",
        "        # \"metadata\": {'text': d['text'], 'uuid': str(uuid.uuid4())} # Metadata we can add n number of properties\n",
        "        \"metadata\": {'text': d['text'], 'uuid': uuid_static} # Metadata we can add n number of properties\n",
        "\n",
        "    })\n",
        "\n",
        "index.upsert(\n",
        "    vectors=records,\n",
        "    namespace=\"example-namespace-001\"\n",
        ")"
      ],
      "metadata": {
        "colab": {
          "base_uri": "https://localhost:8080/"
        },
        "id": "rTDqjoBLRvXu",
        "outputId": "5a3caf65-61fe-47c5-e619-63f2b560eae5"
      },
      "execution_count": null,
      "outputs": [
        {
          "output_type": "execute_result",
          "data": {
            "text/plain": [
              "upserted_count: 6"
            ]
          },
          "metadata": {},
          "execution_count": 54
        }
      ]
    },
    {
      "cell_type": "markdown",
      "source": [
        "## Notes\n",
        "\n",
        "- After uploading the sample records i can see the numerical representation `seperated with comma` in the pincone UI. I checked the length of the numerical representation its `1024` & the embed model we chosed that dimension also `1024`.\n",
        "- All the values inside the numerical representation the values is not more that 1 not below -1 because of the `cosine metric` `-1 -> 0 -> 1`.\n",
        "- Every Time you reload the page its initialize the `cosine metric` every refresh the cosine metric is gets changed."
      ],
      "metadata": {
        "id": "pFljmNb1W7y8"
      }
    },
    {
      "cell_type": "code",
      "source": [],
      "metadata": {
        "id": "qEINBSJppGna"
      },
      "execution_count": null,
      "outputs": []
    },
    {
      "cell_type": "markdown",
      "source": [
        "Pinecone is eventually consistent, so there can be a delay before your upserted records are available to query. Use the `describe_index_stats` operation to check if the current vector count matches the number of vectors you upserted (6):"
      ],
      "metadata": {
        "id": "eLktkvPCpa_u"
      }
    },
    {
      "cell_type": "code",
      "source": [
        "time.sleep(10)  # Wait for the upserted vectors to be indexed\n",
        "\n",
        "print(index.describe_index_stats())\n"
      ],
      "metadata": {
        "colab": {
          "base_uri": "https://localhost:8080/"
        },
        "id": "Gub_s-NopjZQ",
        "outputId": "da042e27-12e4-4a2c-8950-c67d90358f9a"
      },
      "execution_count": null,
      "outputs": [
        {
          "output_type": "stream",
          "name": "stdout",
          "text": [
            "{'dimension': 1024,\n",
            " 'index_fullness': 0.0,\n",
            " 'namespaces': {'example-namespace-001': {'vector_count': 6}},\n",
            " 'total_vector_count': 6}\n"
          ]
        }
      ]
    },
    {
      "cell_type": "markdown",
      "source": [
        "## [Search Index](https://docs.pinecone.io/guides/get-started/quickstart#6-search-the-index)\n",
        "\n",
        "With data in your index, let’s say you now want to search for information about “Apple” the tech company, not “apple” the fruit.\n",
        "\n",
        "Use the the `multilingual-e5-large` model to convert your query into a `vector embedding`, and then use the `query` operation to search for the three vectors in the index that are most semantically similar to the query vector:"
      ],
      "metadata": {
        "id": "l0f1SbiDpuay"
      }
    },
    {
      "cell_type": "code",
      "source": [
        "query = \"Tell me about the tech company known as Apple.\"\n",
        "\n",
        "\n",
        "query_embedding = pc.inference.embed(\n",
        "    model=embed_model_name,\n",
        "    inputs=[query],\n",
        "    parameters={\"input_type\": \"query\"}\n",
        ")\n",
        "\n",
        "print(query_embedding[0].values)\n",
        "query_embedding"
      ],
      "metadata": {
        "colab": {
          "base_uri": "https://localhost:8080/"
        },
        "id": "mmppe2dN0HJl",
        "outputId": "76a4381b-0a46-45d0-d222-3c0f38e2a8ef"
      },
      "execution_count": null,
      "outputs": [
        {
          "output_type": "stream",
          "name": "stdout",
          "text": [
            "[0.018585205078125, -0.002620697021484375, -0.054901123046875, -0.03271484375, 0.03643798828125, -0.038055419921875, -0.0294036865234375, 0.07330322265625, 0.04742431640625, -0.037933349609375, 0.052978515625, 0.018707275390625, -0.042327880859375, -0.034088134765625, 0.0017385482788085938, -0.00984954833984375, -0.03070068359375, 0.03466796875, -0.0024394989013671875, -0.040435791015625, 0.0426025390625, -0.0249176025390625, -0.0207977294921875, -0.039520263671875, 0.0002307891845703125, -0.0099334716796875, -0.030609130859375, -0.03515625, 0.012237548828125, -0.0736083984375, -0.003421783447265625, -0.0187530517578125, -0.059814453125, -0.0223541259765625, -0.037078857421875, 0.0125732421875, 0.023101806640625, 0.0222930908203125, -0.03302001953125, 0.007595062255859375, -0.052459716796875, 0.045654296875, -0.0321044921875, -0.018280029296875, -0.00957489013671875, 0.0300445556640625, 0.0215911865234375, 0.01508331298828125, -0.0433349609375, 0.0239410400390625, 0.031402587890625, 0.0023956298828125, -0.01012420654296875, 0.03240966796875, -0.047088623046875, 0.0177459716796875, -0.025360107421875, -0.00033593177795410156, -0.05316162109375, 0.00673675537109375, -0.0227508544921875, -0.021270751953125, 0.016876220703125, -0.036163330078125, -0.048431396484375, 0.060516357421875, 0.02996826171875, -0.0016584396362304688, -0.06512451171875, 0.0227203369140625, -0.02130126953125, 0.032684326171875, -0.05670166015625, -0.019775390625, -0.033233642578125, -0.0050048828125, 0.04779052734375, 0.0258026123046875, 0.0208892822265625, -0.034088134765625, 0.090087890625, -0.0014057159423828125, 0.032135009765625, -0.035614013671875, 0.037139892578125, 0.02716064453125, -0.0047607421875, 0.037261962890625, 0.0076141357421875, 0.031585693359375, 0.0025539398193359375, 0.038177490234375, 0.01250457763671875, -0.015350341796875, -0.0350341796875, -0.01274871826171875, 0.05364990234375, 0.0257110595703125, -0.0166473388671875, 0.015899658203125, -0.0093994140625, -0.0322265625, 0.041351318359375, -0.057281494140625, -0.00592041015625, 0.021453857421875, 0.04144287109375, 0.048095703125, 0.02899169921875, 0.0093536376953125, 0.0338134765625, 0.0570068359375, 0.022552490234375, -0.02716064453125, -0.039886474609375, 0.0014858245849609375, 0.0264739990234375, -0.01141357421875, 0.00316619873046875, 0.03131103515625, 0.0382080078125, 0.016876220703125, -0.0291748046875, -0.0015211105346679688, 0.025665283203125, -0.030975341796875, 0.0225067138671875, 0.037261962890625, -0.0274810791015625, 0.06182861328125, 0.01428985595703125, 0.034515380859375, -0.040985107421875, -0.006359100341796875, -0.053924560546875, -0.037017822265625, -0.037384033203125, -0.00019419193267822266, -0.0264739990234375, -0.0048828125, 0.0026092529296875, 0.05438232421875, 0.039794921875, -0.03228759765625, -0.01204681396484375, -0.06793212890625, -0.0391845703125, 0.0166778564453125, 0.00618743896484375, -0.0115203857421875, -0.019439697265625, -0.01284027099609375, -0.036376953125, 0.0244598388671875, 0.0109710693359375, -0.02947998046875, 0.0277557373046875, 0.0545654296875, 0.0038585662841796875, 0.01238250732421875, -0.0305023193359375, -0.049591064453125, -0.0303955078125, -0.02813720703125, -0.004062652587890625, -0.042938232421875, -0.0032329559326171875, 0.05596923828125, 0.017486572265625, -0.040374755859375, -0.0284271240234375, -0.05133056640625, 0.01029205322265625, -0.034576416015625, 0.0194091796875, 0.03692626953125, 0.048980712890625, 0.0202789306640625, 0.0214691162109375, -0.047210693359375, 0.0010976791381835938, -0.0004451274871826172, 0.018951416015625, -0.03533935546875, -0.0228424072265625, 0.018218994140625, 0.0247650146484375, 0.006778717041015625, 0.01351165771484375, 0.034698486328125, 0.024078369140625, -0.0018749237060546875, -0.01617431640625, 0.0128631591796875, -0.047119140625, 0.02789306640625, 0.02978515625, 0.049957275390625, -0.0223388671875, -0.050018310546875, 0.01158905029296875, 0.040191650390625, -0.046844482421875, 0.00206756591796875, -0.00466156005859375, -0.02880859375, -0.00569915771484375, -0.0235748291015625, 0.0162200927734375, -0.0236968994140625, -0.060028076171875, -0.0092620849609375, 0.05413818359375, 0.0239105224609375, -0.0243682861328125, -0.0423583984375, -0.04949951171875, 0.00011533498764038086, 0.0355224609375, -0.022491455078125, 0.0202789306640625, 0.05029296875, 0.0218505859375, 0.023681640625, 0.042938232421875, 0.0234375, -0.0002371072769165039, 0.01275634765625, 0.037933349609375, 0.005962371826171875, 0.023529052734375, 0.01221466064453125, -0.032440185546875, -0.0026035308837890625, 0.0357666015625, -0.0232086181640625, -0.0197601318359375, -0.046112060546875, 0.032501220703125, 0.0303802490234375, -0.043212890625, 0.0107421875, -0.00945281982421875, -0.020904541015625, 0.00347900390625, -0.01329803466796875, 0.0020580291748046875, -0.006500244140625, 0.0220947265625, -0.031341552734375, 0.015960693359375, 0.0226593017578125, -0.0200347900390625, -0.0208282470703125, 0.0163726806640625, 0.0227203369140625, 0.022705078125, -0.00353240966796875, -0.00556182861328125, -0.007648468017578125, -0.0021991729736328125, -0.00435638427734375, -0.024383544921875, 0.01314544677734375, 0.0295562744140625, 0.0190277099609375, 0.007740020751953125, -0.0240936279296875, -0.00415802001953125, -0.00811767578125, -0.03887939453125, -0.042633056640625, -0.045440673828125, -0.0181427001953125, -0.028350830078125, 0.0129852294921875, -0.053009033203125, -0.026580810546875, 0.011138916015625, 0.0037403106689453125, -0.0035266876220703125, -0.025634765625, 0.03643798828125, -0.032806396484375, 0.0150146484375, -0.018707275390625, 0.017120361328125, -0.03466796875, 0.008636474609375, -0.04925537109375, 0.016387939453125, -0.035919189453125, 0.06829833984375, 0.0565185546875, 0.045989990234375, 0.05328369140625, -0.0294952392578125, -0.087890625, -0.037506103515625, 0.015655517578125, -0.0211029052734375, -0.0218505859375, 0.033599853515625, 0.046356201171875, -0.0133056640625, -0.06146240234375, 0.00640869140625, -0.0023040771484375, -0.076171875, -0.0308685302734375, 0.01250457763671875, 0.061737060546875, -0.01495361328125, -0.04156494140625, -0.0222015380859375, 0.00848388671875, -0.0130615234375, 0.0070953369140625, -0.0297393798828125, 0.03656005859375, -0.02130126953125, 0.0009212493896484375, -0.03802490234375, 0.00827789306640625, 0.0394287109375, -0.0006666183471679688, 0.0210723876953125, -0.0338134765625, 0.0113983154296875, -0.028472900390625, 0.0216064453125, -0.0308837890625, -0.030731201171875, 0.0506591796875, -0.01593017578125, 0.045654296875, -0.05584716796875, 0.021820068359375, -0.0030269622802734375, -0.001438140869140625, 0.00786590576171875, -0.0234527587890625, -0.038421630859375, -0.0023784637451171875, 0.017120361328125, -0.019744873046875, 0.0162506103515625, -0.0268096923828125, 0.037384033203125, 0.028167724609375, -0.0114898681640625, -0.0265350341796875, -0.0048065185546875, 0.02777099609375, -0.0239715576171875, 0.08294677734375, 0.02142333984375, -0.01433563232421875, 0.02203369140625, 0.006839752197265625, 0.02813720703125, 0.025146484375, 0.0386962890625, -0.05963134765625, -0.008392333984375, -0.017242431640625, -0.018157958984375, -0.01275634765625, -0.04632568359375, -0.04705810546875, 0.029327392578125, 0.033416748046875, -0.0013980865478515625, 0.02459716796875, -0.01593017578125, -0.0274200439453125, -0.05126953125, -0.0262451171875, 0.0150299072265625, -0.04132080078125, -0.01245880126953125, -0.04669189453125, 0.0247802734375, -0.044952392578125, 0.0216064453125, -0.004871368408203125, 0.1951904296875, 0.007904052734375, 0.0556640625, -0.048919677734375, -0.00557708740234375, 0.015899658203125, 0.0211944580078125, 0.0199432373046875, 0.0243072509765625, 0.0188751220703125, -0.0193939208984375, 0.0079498291015625, 0.03564453125, -0.01776123046875, 0.00926971435546875, 0.04022216796875, 0.00870513916015625, 0.0229034423828125, 0.031951904296875, 0.005397796630859375, 0.050537109375, -0.0199737548828125, 0.0948486328125, 0.0177764892578125, -0.0219268798828125, -0.0160980224609375, 0.0001933574676513672, 0.05865478515625, -0.05950927734375, 0.040924072265625, -0.01314544677734375, 0.0262603759765625, -0.043731689453125, -0.01318359375, 0.0170440673828125, 0.0216064453125, -0.005268096923828125, -0.0291748046875, 0.042877197265625, -0.042999267578125, -0.038818359375, 0.006999969482421875, -0.0264892578125, 0.04339599609375, -0.00540924072265625, 0.0236053466796875, 0.047027587890625, -0.017608642578125, -0.025177001953125, 0.0100860595703125, 0.01068878173828125, 0.04437255859375, -0.034454345703125, -0.033355712890625, -0.01396942138671875, -0.033447265625, -0.0014867782592773438, -0.043609619140625, 0.003299713134765625, 0.022125244140625, 0.040740966796875, 0.031036376953125, -0.0135955810546875, -0.0201873779296875, 0.051239013671875, -0.00157928466796875, 0.0044708251953125, -0.0189056396484375, -0.058502197265625, -0.03668212890625, -0.031097412109375, -0.0217132568359375, -0.0233612060546875, 0.00826263427734375, 0.03759765625, -0.02740478515625, -0.033935546875, 0.05804443359375, 0.02740478515625, -0.01012420654296875, 0.047576904296875, -0.01409149169921875, -0.03778076171875, 0.04058837890625, 0.06280517578125, -0.02777099609375, -0.0126800537109375, 0.03466796875, -0.0232086181640625, 0.00881195068359375, 0.0285797119140625, 0.0252685546875, -0.0258941650390625, 0.05816650390625, 0.026153564453125, -0.04541015625, 0.036163330078125, 0.033447265625, -0.019561767578125, -0.05560302734375, -0.00701141357421875, 0.032318115234375, -0.031707763671875, -0.04193115234375, -0.028656005859375, -0.0194854736328125, 0.00627899169921875, 0.06243896484375, 0.0330810546875, -0.00302886962890625, 0.016357421875, -0.0169677734375, 0.018218994140625, -0.020843505859375, -0.004016876220703125, 0.023193359375, 0.0262603759765625, -0.0247344970703125, 0.01284027099609375, 0.037139892578125, -0.018646240234375, 0.01580810546875, 0.006015777587890625, 0.0253448486328125, -0.0150146484375, 0.01517486572265625, -0.0161590576171875, 0.01220703125, 0.0010290145874023438, -0.0006556510925292969, -0.00370025634765625, -0.0374755859375, -0.033905029296875, -0.0061187744140625, 0.0167694091796875, -0.01119232177734375, 0.04193115234375, 0.0129852294921875, -0.0150299072265625, 0.036163330078125, -0.03338623046875, 0.038482666015625, -0.053924560546875, 0.051971435546875, 0.01654052734375, 0.0267791748046875, 0.00914764404296875, -0.02490234375, 0.0012750625610351562, -0.0273895263671875, 0.005535125732421875, -0.042999267578125, 0.0101776123046875, 0.0102386474609375, -0.03668212890625, -0.0037384033203125, 0.0076751708984375, 0.055206298828125, 0.0233306884765625, -0.0236053466796875, -0.03790283203125, -0.0192108154296875, -0.0157623291015625, 0.1146240234375, 0.03564453125, 0.06048583984375, -0.0189666748046875, 0.0209503173828125, 0.036865234375, 0.007770538330078125, -0.0062103271484375, -0.05120849609375, 0.0164947509765625, 0.03302001953125, 0.01094818115234375, -0.0199737548828125, 0.00616455078125, 0.0270843505859375, -0.05389404296875, 0.00853729248046875, -0.034759521484375, 0.04803466796875, -0.006221771240234375, -0.05511474609375, -0.0396728515625, 0.0184783935546875, 0.00653076171875, -0.00433349609375, -0.0151214599609375, 0.033843994140625, -0.0012531280517578125, 0.06195068359375, 0.00897216796875, -0.0004177093505859375, -0.04315185546875, 0.00208282470703125, 0.0146026611328125, 0.0167083740234375, -0.028533935546875, -0.0201263427734375, 0.028411865234375, -0.03009033203125, -0.02508544921875, 0.022125244140625, -0.027984619140625, -0.02655029296875, -0.0115966796875, 0.036590576171875, 0.023895263671875, 0.04034423828125, 0.004184722900390625, -0.0141143798828125, 0.00952911376953125, -0.0028781890869140625, 0.0280303955078125, 0.0474853515625, 0.0203704833984375, 0.05914306640625, 0.05908203125, -0.055633544921875, 0.0254669189453125, 0.01265716552734375, 0.01433563232421875, -0.04949951171875, -0.034210205078125, 6.967782974243164e-05, 0.023406982421875, 0.0198822021484375, -0.023101806640625, -0.0284881591796875, 0.016510009765625, -0.03607177734375, -0.0161895751953125, -0.042236328125, -0.0221099853515625, -0.032928466796875, 0.02423095703125, 0.012908935546875, -0.0145263671875, -0.02203369140625, 0.0064849853515625, 0.021575927734375, 0.0592041015625, -0.0163726806640625, -0.0246734619140625, -0.0015106201171875, -0.03668212890625, -0.002460479736328125, 0.024261474609375, 0.0221710205078125, 0.01192474365234375, -0.017822265625, 0.033294677734375, 0.06280517578125, -0.041229248046875, -0.01284027099609375, 0.01444244384765625, -0.035552978515625, -0.026519775390625, -0.0355224609375, 0.025787353515625, 0.01019287109375, -0.0243377685546875, 0.005588531494140625, -0.045166015625, 0.09747314453125, 0.0753173828125, 0.01015472412109375, -0.028564453125, -0.02899169921875, 0.0234222412109375, 0.0016613006591796875, -0.03533935546875, -0.0565185546875, 0.0301055908203125, 0.040985107421875, -0.01065826416015625, -0.0286102294921875, -0.0018138885498046875, -0.0245819091796875, -0.004451751708984375, 0.045196533203125, -0.024505615234375, -0.00235748291015625, 0.002994537353515625, 0.02716064453125, -0.03192138671875, 0.05352783203125, -0.0192108154296875, -0.050323486328125, -0.0421142578125, 0.03216552734375, -0.03082275390625, -0.0020008087158203125, -0.0439453125, -0.04931640625, -0.056549072265625, -0.01111602783203125, -0.027862548828125, -0.0640869140625, 0.02886962890625, -0.036163330078125, -0.04248046875, -0.028106689453125, -0.0161285400390625, 0.0282440185546875, -0.04815673828125, -0.0157470703125, 0.030426025390625, 0.02252197265625, -0.0072784423828125, -0.040740966796875, 0.00923919677734375, 0.04962158203125, -0.01342010498046875, -0.0036716461181640625, 0.019073486328125, -0.028656005859375, -0.013671875, 0.048858642578125, -0.029571533203125, -0.0333251953125, -0.007366180419921875, -0.0005888938903808594, 0.046478271484375, 0.01371002197265625, -0.00868988037109375, 0.0016603469848632812, 0.00815582275390625, 0.010528564453125, 0.003997802734375, -0.016204833984375, -0.01030731201171875, -0.0283355712890625, -0.01416778564453125, -0.0250244140625, -0.006763458251953125, -0.0278778076171875, -0.0298004150390625, -0.038055419921875, -0.01262664794921875, 0.004497528076171875, 0.054107666015625, -0.03363037109375, 0.015960693359375, -0.0325927734375, -0.02874755859375, 0.0107574462890625, -0.020782470703125, -0.0026988983154296875, -0.027099609375, 0.0279998779296875, 0.014129638671875, -0.032379150390625, -0.033111572265625, 0.04815673828125, -0.01520538330078125, 0.027923583984375, 0.00829315185546875, -0.02569580078125, -0.00788116455078125, 0.0232391357421875, 0.06365966796875, -0.01279449462890625, -0.01922607421875, 0.0192718505859375, -0.0201263427734375, 0.0731201171875, -0.03662109375, 0.00443267822265625, -0.002101898193359375, 0.01232147216796875, -0.037750244140625, -0.035675048828125, -0.04461669921875, 0.031341552734375, -0.031646728515625, 0.00023949146270751953, 0.0228118896484375, 0.0249176025390625, 0.00820159912109375, -0.06494140625, -0.039337158203125, 0.0033702850341796875, 0.033416748046875, -0.054168701171875, -0.0188751220703125, 0.032745361328125, 0.005107879638671875, 0.0269622802734375, -0.0010509490966796875, 0.03704833984375, -0.0369873046875, 0.0262603759765625, -0.078369140625, -0.0115814208984375, 0.0160675048828125, -0.0265350341796875, -0.032867431640625, -0.03826904296875, -0.01317596435546875, 0.0171356201171875, 0.01450347900390625, -0.0267333984375, 0.00820159912109375, 0.0313720703125, 0.02227783203125, 0.011138916015625, -0.0033779144287109375, 0.005062103271484375, 0.020416259765625, -0.031829833984375, 0.01904296875, 0.0006361007690429688, 0.014404296875, -0.01800537109375, -0.0188751220703125, -0.01318359375, -0.0012788772583007812, 0.01203155517578125, 0.03863525390625, 0.0204315185546875, -0.0199432373046875, -0.044952392578125, -0.0046539306640625, -0.0169525146484375, 0.019134521484375, 0.04461669921875, -0.046112060546875, 0.01374053955078125, -0.055206298828125, -0.015869140625, -0.04144287109375, 0.01751708984375, -0.0159149169921875, 0.051788330078125, -0.0323486328125, -0.00039315223693847656, -0.01248931884765625, 0.032745361328125, -0.01218414306640625, -0.0260467529296875, 0.0018863677978515625, -0.0187835693359375, -0.017333984375, -0.058746337890625, 0.040740966796875, 0.0343017578125, 0.04473876953125, 0.0092620849609375, 0.0189971923828125, -0.0128326416015625, 0.031982421875, 0.07269287109375, 0.0021076202392578125, -0.019561767578125, -0.021575927734375, -0.0149993896484375, -0.02032470703125, -0.04205322265625, -0.0797119140625, -0.0133514404296875, -0.0305328369140625, 0.0183258056640625, 0.0157928466796875, -0.02789306640625, 0.034454345703125, 0.0145721435546875, 0.034149169921875, -0.04132080078125, 0.0015850067138671875, -0.02728271484375, 0.0273590087890625, -0.0008993148803710938, -0.0267333984375, -0.0015630722045898438, 0.0168304443359375, 0.044281005859375, -0.0089263916015625, 0.0202178955078125, 0.00882720947265625, -0.0201873779296875, -0.045257568359375, -0.01043701171875, -0.0518798828125, 0.0105743408203125, 0.0249786376953125, -0.001377105712890625, -0.0531005859375, 0.0030059814453125, -0.03680419921875, -0.007114410400390625, -0.0211334228515625, -0.0088958740234375, -0.0201416015625, -0.0216827392578125, 0.01499176025390625, -0.007465362548828125, -0.01654052734375, -0.0118865966796875, 0.03515625, -0.00750732421875, 0.0014600753784179688, -0.0218505859375, -0.051055908203125, -0.01399993896484375, -0.03082275390625, -0.014923095703125, -0.00984954833984375, 0.01288604736328125, -0.00864410400390625, 0.0281524658203125, -0.0242156982421875, -0.0165252685546875, -0.038543701171875, -0.0139923095703125, 0.0477294921875, -0.0070648193359375, 0.0307769775390625, 0.0100860595703125, 0.0169677734375, -0.0241546630859375, 0.0016469955444335938, -0.024444580078125, 0.010986328125, -0.023773193359375, 0.0306854248046875, 0.0163726806640625, -0.0039520263671875, -0.024139404296875, 0.02655029296875, 0.08258056640625, -0.0168914794921875, -0.00142669677734375, -0.0259857177734375, -0.034912109375, -0.0377197265625, -0.005855560302734375, -0.04559326171875, 0.017913818359375, 0.015625, -0.069091796875, -0.037445068359375, -0.022552490234375, -0.01152801513671875, 0.006011962890625, -0.0322265625, 0.045989990234375, 0.004207611083984375, 0.03192138671875, -0.0103302001953125, -0.01171875, 0.0301971435546875, 0.0182342529296875, 0.0144805908203125, 0.00443267822265625, -0.033935546875, 0.023895263671875, -0.0261993408203125, -0.049041748046875, 0.006389617919921875, -0.0010137557983398438, -0.034820556640625, 0.00749969482421875, 0.022674560546875, 0.022796630859375, -0.0218505859375, 0.0318603515625, 0.03875732421875, 0.00911712646484375, 0.0447998046875, 0.0209808349609375, 0.0158233642578125, 0.0034084320068359375, 0.037750244140625, -0.005275726318359375, -0.00832366943359375, 0.03594970703125, 0.02154541015625, 0.05029296875, 0.00799560546875, 0.01267242431640625, 0.016082763671875, 0.0318603515625, -0.03271484375, 0.0179595947265625, -0.005950927734375, 0.0198822021484375, 0.063720703125, -0.01169586181640625, -0.01354217529296875, 0.05682373046875, -0.0288848876953125, -0.022735595703125, 0.043212890625, -0.006183624267578125, 0.03631591796875, -0.024688720703125, -0.01535797119140625, -0.03924560546875, -0.030914306640625, -0.0005741119384765625, -0.01554107666015625, 0.041473388671875, 0.057830810546875, -0.0125579833984375, 0.02093505859375, 0.0243072509765625, 0.044036865234375, 0.0201873779296875, 0.0233306884765625, -0.03961181640625, 0.0290374755859375, 0.037109375, 0.018798828125, 0.032379150390625, -0.0379638671875, -0.00582122802734375, -0.01372528076171875, 0.01508331298828125, -0.0214996337890625, 0.00884246826171875, -0.036376953125, -0.03582763671875, -0.00345611572265625, 0.040496826171875, 0.01100921630859375, 0.00933837890625, -0.01529693603515625, -0.0274505615234375, 0.030731201171875, 0.0013437271118164062, 0.004791259765625, 0.0121612548828125, -0.0176849365234375, -0.0059661865234375, -0.0293731689453125, -0.03375244140625]\n"
          ]
        },
        {
          "output_type": "execute_result",
          "data": {
            "text/plain": [
              "EmbeddingsList(\n",
              "  model='multilingual-e5-large',\n",
              "  data=[\n",
              "    {'values': [0.018585205078125, -0.002620697021484375, ..., -0.0293731689453125, -0.03375244140625]}\n",
              "  ],\n",
              "  usage={'total_tokens': 15}\n",
              ")"
            ]
          },
          "metadata": {},
          "execution_count": 56
        }
      ]
    },
    {
      "cell_type": "code",
      "source": [
        "results = index.query(\n",
        "    namespace=\"example-namespace-001\",\n",
        "    vector=query_embedding[0].values,\n",
        "    top_k=3,\n",
        "    include_values=False,\n",
        "    include_metadata=True\n",
        ")\n",
        "print(results)"
      ],
      "metadata": {
        "colab": {
          "base_uri": "https://localhost:8080/"
        },
        "id": "9CbrpHxK00Xk",
        "outputId": "e0a83ef6-8bfd-4461-fa04-638cf81fd633"
      },
      "execution_count": null,
      "outputs": [
        {
          "output_type": "stream",
          "name": "stdout",
          "text": [
            "{'matches': [{'id': 'vec2',\n",
            "              'metadata': {'text': 'The tech company Apple is known for its '\n",
            "                                   'innovative products like the iPhone.',\n",
            "                           'uuid': 'bceddb3c-1918-4a01-b983-5bcb28c3e838'},\n",
            "              'score': 0.8728192,\n",
            "              'sparse_values': {'indices': [], 'values': []},\n",
            "              'values': []},\n",
            "             {'id': 'vec4',\n",
            "              'metadata': {'text': 'Apple Inc. has revolutionized the tech '\n",
            "                                   'industry with its sleek designs and '\n",
            "                                   'user-friendly interfaces.',\n",
            "                           'uuid': 'bceddb3c-1918-4a01-b983-5bcb28c3e838'},\n",
            "              'score': 0.85248536,\n",
            "              'sparse_values': {'indices': [], 'values': []},\n",
            "              'values': []},\n",
            "             {'id': 'vec6',\n",
            "              'metadata': {'text': 'Apple Computer Company was founded on '\n",
            "                                   'April 1, 1976, by Steve Jobs, Steve '\n",
            "                                   'Wozniak, and Ronald Wayne as a '\n",
            "                                   'partnership.',\n",
            "                           'uuid': 'bceddb3c-1918-4a01-b983-5bcb28c3e838'},\n",
            "              'score': 0.8502486,\n",
            "              'sparse_values': {'indices': [], 'values': []},\n",
            "              'values': []}],\n",
            " 'namespace': 'example-namespace-001',\n",
            " 'usage': {'read_units': 6}}\n"
          ]
        }
      ]
    },
    {
      "cell_type": "markdown",
      "source": [
        "## Clean Up\n",
        "\n",
        "When you no longer need the `example-index-001`, use the `delete_index` operation to delete it:\n",
        "\n",
        "\n"
      ],
      "metadata": {
        "id": "KPGp2AGP1yPa"
      }
    },
    {
      "cell_type": "code",
      "source": [
        "pc.delete_index(index_name)"
      ],
      "metadata": {
        "id": "5W5xv-uu16Bs"
      },
      "execution_count": null,
      "outputs": []
    },
    {
      "cell_type": "markdown",
      "source": [
        "# [Build a RAG chatbot](https://docs.pinecone.io/guides/get-started/build-a-rag-chatbot#how-it-works)\n"
      ],
      "metadata": {
        "id": "58rixYplpcox"
      }
    },
    {
      "cell_type": "markdown",
      "source": [
        "This tutorial shows you how to build a simple RAG chatbot in Python using `Pinecone` for the vector database and embedding model, `GROQ` for the LLM, and `LangChain` for the RAG workflow.\n",
        "\n",
        "---\n",
        "**What is “hallucination”?**\n",
        "\n",
        "GenAI chatbots built on Large Language Models (LLMs) can answer many questions. However, when the questions concern `private` data that the LLMs `have not been trained on`, you can get answers that sound convincing but are `factually wrong`. This behavior is referred to as `“hallucination”`.\n",
        "\n",
        "---\n",
        "`Retrieval augmented generation (RAG)` is a framework that prevents `hallucination` by providing LLMs the knowledge that they are missing, based on private data stored in a vector database like Pinecone.\n",
        "\n",
        "![image](https://i.imgur.com/K0UPMQM.png)"
      ],
      "metadata": {
        "id": "_rjK0D6-q27q"
      }
    },
    {
      "cell_type": "markdown",
      "source": [
        "## [Store knowledge in Pinecone](https://docs.pinecone.io/guides/get-started/build-a-rag-chatbot#2-store-knowledge-in-pinecone)\n",
        "\n",
        "In this process we are going to use the `WonderVector5000` a document contains about the `fictional` product. the LLM do not have any info about that.\n",
        "\n",
        "I checked in the `GROQ` chat bot with the `llama3-8b` & `llama3.2-90b` both the models have no idea about the `WonderVector5000`"
      ],
      "metadata": {
        "id": "ffGOAfaruHHB"
      }
    },
    {
      "cell_type": "markdown",
      "source": [
        "### Download WonderVector5000\n",
        "\n",
        "\n",
        "**Summary**\n",
        "\n",
        "The *WonderVector5000* is a whimsical, fictional device with imaginative features that defy logic and serve no practical purpose. It includes components like the Quantum Flibberflabber Engine and the Aetherial Flux Capacitor, designed purely for humor. While not actually functional, it boasts entertaining \"features\" such as time manipulation and interdimensional gaming. Setup involves quirky steps like calibrating the Hyperbolic Singularity Matrix, and troubleshooting is filled with equally absurd solutions. Ultimately, the WonderVector5000 is a humorous take on tech innovation, providing fun rather than function."
      ],
      "metadata": {
        "id": "e1n_xBnbgoPG"
      }
    },
    {
      "cell_type": "code",
      "source": [
        "# Download the WonderVector5000.md File\n",
        "!curl -O https://raw.githubusercontent.com/Antony-M1/pincone/refs/heads/main/docs/WonderVector5000.md\n"
      ],
      "metadata": {
        "colab": {
          "base_uri": "https://localhost:8080/"
        },
        "id": "GXj89dvoq2Ba",
        "outputId": "253291f1-e9ff-4096-b975-115b41a4618b"
      },
      "execution_count": null,
      "outputs": [
        {
          "output_type": "stream",
          "name": "stdout",
          "text": [
            "  % Total    % Received % Xferd  Average Speed   Time    Time     Time  Current\n",
            "                                 Dload  Upload   Total   Spent    Left  Speed\n",
            "\r  0     0    0     0    0     0      0      0 --:--:-- --:--:-- --:--:--     0\r100  6432  100  6432    0     0  43268      0 --:--:-- --:--:-- --:--:-- 43459\n"
          ]
        }
      ]
    },
    {
      "cell_type": "markdown",
      "source": [
        "### Split Markdown File\n",
        "\n",
        "Since your document is in `Markdown`, chunk the content based on structure to get `semantically coherent segments`. In this case, `headers_to_split_on` specifies h2 headers as the indicators of where to split."
      ],
      "metadata": {
        "id": "TqJ3d4iK8CLE"
      }
    },
    {
      "cell_type": "code",
      "source": [
        "wonder_vector_5000_path = \"/content/WonderVector5000.md\"\n",
        "\n",
        "with open(wonder_vector_5000_path, \"r\") as f:\n",
        "    markdown_document = f.read()\n",
        "\n",
        "headers_to_split_on = [\n",
        "    (\"##\", \"header_2\")\n",
        "]\n",
        "\n",
        "markdown_splitter = MarkdownHeaderTextSplitter(\n",
        "    headers_to_split_on=headers_to_split_on, strip_headers=False\n",
        ")\n",
        "\n",
        "md_header_splits = markdown_splitter.split_text(markdown_document)\n",
        "\n",
        "print(md_header_splits)\n",
        "print(len(md_header_splits))\n"
      ],
      "metadata": {
        "colab": {
          "base_uri": "https://localhost:8080/"
        },
        "id": "Yg3oUlUHqvOR",
        "outputId": "425825f6-6812-4943-ac66-7efb4f995eac"
      },
      "execution_count": null,
      "outputs": [
        {
          "output_type": "stream",
          "name": "stdout",
          "text": [
            "[Document(metadata={'header_2': 'Introduction'}, page_content=\"# The WonderVector5000: A Journey into Absurd Innovation  \\n## Introduction  \\nWelcome to the whimsical world of the WonderVector5000, an astonishing leap into the realms of imaginative technology. This extraordinary device, borne of creative fancy, promises to revolutionize absolutely nothing while dazzling you with its fantastical features. Whether you're a seasoned technophile or just someone looking for a bit of fun, the WonderVector5000 is sure to leave you amused and bemused in equal measure. Let's explore the incredible, albeit entirely fictitious, specifications, setup process, and troubleshooting tips for this marvel of modern nonsense.\"), Document(metadata={'header_2': 'Product overview'}, page_content=\"## Product overview  \\nThe WonderVector5000 is packed with features that defy logic and physics, each designed to sound impressive while maintaining a delightful air of absurdity:  \\n- Quantum Flibberflabber Engine: The heart of the WonderVector5000, this engine operates on principles of quantum flibberflabber, a phenomenon as mysterious as it is meaningless. It's said to harness the power of improbability to function seamlessly across multiple dimensions.  \\n- Hyperbolic Singularity Matrix: This component compresses infinite possibilities into a singular hyperbolic state, allowing the device to predict outcomes with 0% accuracy, ensuring every use is a new adventure.  \\n- Aetherial Flux Capacitor: Drawing energy from the fictional aether, this flux capacitor provides unlimited power by tapping into the boundless reserves of imaginary energy fields.  \\n- Multi-Dimensional Holo-Interface: Interact with the WonderVector5000 through its holographic interface that projects controls and information in three-and-a-half dimensions, creating a user experience that's simultaneously futuristic and perplexing.  \\n- Neural Fandango Synchronizer: This advanced feature connects directly to the user's brain waves, converting your deepest thoughts into tangible actions—albeit with results that are whimsically unpredictable.  \\n- Chrono-Distortion Field: Manipulate time itself with the WonderVector5000's chrono-distortion field, allowing you to experience moments before they occur or revisit them in a state of temporal flux.\"), Document(metadata={'header_2': 'Use cases'}, page_content=\"## Use cases  \\nWhile the WonderVector5000 is fundamentally a device of fiction and fun, let's imagine some scenarios where it could hypothetically be applied:  \\n- Time Travel Adventures: Use the Chrono-Distortion Field to visit key moments in history or glimpse into the future. While actual temporal manipulation is impossible, the mere idea sparks endless storytelling possibilities.  \\n- Interdimensional Gaming: Engage with the Multi-Dimensional Holo-Interface for immersive, out-of-this-world gaming experiences. Imagine games that adapt to your thoughts via the Neural Fandango Synchronizer, creating a unique and ever-changing environment.  \\n- Infinite Creativity: Harness the Hyperbolic Singularity Matrix for brainstorming sessions. By compressing infinite possibilities into hyperbolic states, it could theoretically help unlock unprecedented creative ideas.  \\n- Energy Experiments: Explore the concept of limitless power with the Aetherial Flux Capacitor. Though purely fictional, the notion of drawing energy from the aether could inspire innovative thinking in energy research.\"), Document(metadata={'header_2': 'Getting started'}, page_content='## Getting started  \\nSetting up your WonderVector5000 is both simple and absurdly intricate. Follow these steps to unleash the full potential of your new device:  \\n1. Unpack the Device: Remove the WonderVector5000 from its anti-gravitational packaging, ensuring to handle with care to avoid disturbing the delicate balance of its components.  \\n2. Initiate the Quantum Flibberflabber Engine: Locate the translucent lever marked “QFE Start” and pull it gently. You should notice a slight shimmer in the air as the engine engages, indicating that quantum flibberflabber is in effect.  \\n3. Calibrate the Hyperbolic Singularity Matrix: Turn the dials labeled \"Infinity A\" and \"Infinity B\" until the matrix stabilizes. You’ll know it\\'s calibrated correctly when the display shows a single, stable “∞”.  \\n4. Engage the Aetherial Flux Capacitor: Insert the EtherKey into the designated slot and turn it clockwise. A faint humming sound should confirm that the aetherial flux capacitor is active.  \\n5. Activate the Multi-Dimensional Holo-Interface: Press the button resembling a floating question mark to activate the holo-interface. The controls should materialize before your eyes, slightly out of phase with reality.  \\n6. Synchronize the Neural Fandango Synchronizer: Place the neural headband on your forehead and think of the word “Wonder”. The device will sync with your thoughts, a process that should take just a few moments.  \\n7. Set the Chrono-Distortion Field: Use the temporal sliders to adjust the time settings. Recommended presets include “Past”, “Present”, and “Future”, though feel free to explore other, more abstract temporal states.'), Document(metadata={'header_2': 'Troubleshooting'}, page_content=\"## Troubleshooting  \\nEven a device as fantastically designed as the WonderVector5000 can encounter problems. Here are some common issues and their solutions:  \\n- Issue: The Quantum Flibberflabber Engine won't start.  \\n- Solution: Ensure the anti-gravitational packaging has been completely removed. Check for any residual shards of improbability that might be obstructing the engine.  \\n- Issue: The Hyperbolic Singularity Matrix displays “∞∞”.  \\n- Solution: This indicates a hyper-infinite loop. Reset the dials to zero and then adjust them slowly until the display shows a single, stable infinity symbol.  \\n- Issue: The Aetherial Flux Capacitor isn't engaging.  \\n- Solution: Verify that the EtherKey is properly inserted and genuine. Counterfeit EtherKeys can often cause malfunctions. Replace with an authenticated EtherKey if necessary.  \\n- Issue: The Multi-Dimensional Holo-Interface shows garbled projections.  \\n- Solution: Realign the temporal resonators by tapping the holographic screen three times in quick succession. This should stabilize the projections.  \\n- Issue: The Neural Fandango Synchronizer causes headaches.  \\n- Solution: Ensure the headband is properly positioned and not too tight. Relax and focus on simple, calming thoughts to ease the synchronization process.  \\n- Issue: The Chrono-Distortion Field is stuck in the past.  \\n- Solution: Increase the temporal flux by 5%. If this fails, perform a hard reset by holding down the “Future” slider for ten seconds.\")]\n",
            "5\n"
          ]
        }
      ]
    },
    {
      "cell_type": "markdown",
      "source": [
        "### Initialize Embed Model\n",
        "\n",
        "Initialize a LangChain embedding object. This is what you will use to create vectors from the document above and store them in Pinecone. Note that this step uses a Pinecone API key you set as an environment variable earlier."
      ],
      "metadata": {
        "id": "bgE4ylGWY0cg"
      }
    },
    {
      "cell_type": "code",
      "source": [
        "embed_model_name = \"multilingual-e5-large\"\n",
        "\n",
        "embeddings = PineconeEmbeddings(\n",
        "    model=embed_model_name,\n",
        "    api_key=os.getenv('PINECONE_API_KEY'),\n",
        ")\n",
        "embeddings"
      ],
      "metadata": {
        "colab": {
          "base_uri": "https://localhost:8080/"
        },
        "id": "mtjrkJMIY2FB",
        "outputId": "f00e0ef0-7705-4ec0-cc7b-74154447fa3e"
      },
      "execution_count": null,
      "outputs": [
        {
          "output_type": "execute_result",
          "data": {
            "text/plain": [
              "PineconeEmbeddings(model='multilingual-e5-large', batch_size=96, query_params={'input_type': 'query', 'truncation': 'END'}, document_params={'input_type': 'passage', 'truncation': 'END'}, dimension=1024, show_progress_bar=False, pinecone_api_key=SecretStr('**********'))"
            ]
          },
          "metadata": {},
          "execution_count": 11
        }
      ]
    },
    {
      "cell_type": "markdown",
      "source": [
        "### Create Index\n",
        "\n",
        "Create a Pinecone `index` to store the document in. Define the cloud region and index name and set the index dimensions and distance metric to match those of the Pinecone `multilingual-e5-large` model you’ll use to create the embeddings:"
      ],
      "metadata": {
        "id": "nFo3xTccaGuc"
      }
    },
    {
      "cell_type": "code",
      "source": [
        "pc = Pinecone(api_key=os.getenv(\"PINECONE_API_KEY\"))\n",
        "\n",
        "cloud, region = 'aws', 'us-east-1'\n",
        "\n",
        "spec = ServerlessSpec(cloud=cloud, region=region)\n",
        "\n",
        "index_name = \"rag-getting-started\"\n",
        "\n",
        "if index_name not in pc.list_indexes().names():\n",
        "    pc.create_index(\n",
        "        name=index_name,\n",
        "        dimension=1024,\n",
        "        metric=\"cosine\",\n",
        "        spec=spec\n",
        "    )\n",
        "\n",
        "    while not pc.describe_index(index_name).status['ready']:\n",
        "        time.sleep(1)\n",
        "    print(f\"Index {index_name} Created Successfully\")\n",
        "else:\n",
        "    print(f\"Index name : {index_name} already precent in Pinecone\")\n",
        "\n",
        "\n",
        "print(\"Index before upsert:\")\n",
        "print(pc.Index(index_name).describe_index_stats())\n",
        "print(\"\\n\")"
      ],
      "metadata": {
        "colab": {
          "base_uri": "https://localhost:8080/"
        },
        "id": "GYp8JvvfaO3F",
        "outputId": "ca829817-514d-4661-dd1b-2dda7ad9cf36"
      },
      "execution_count": null,
      "outputs": [
        {
          "output_type": "stream",
          "name": "stdout",
          "text": [
            "Index name : rag-getting-started already precent in Pinecone\n",
            "Index before upsert:\n",
            "{'dimension': 1024,\n",
            " 'index_fullness': 0.0,\n",
            " 'namespaces': {'wondervector5000': {'vector_count': 5}},\n",
            " 'total_vector_count': 5}\n",
            "\n",
            "\n"
          ]
        }
      ]
    },
    {
      "cell_type": "markdown",
      "source": [
        "### Upsert Data\n",
        "\n",
        "Embed and upsert each chunk as a distinct record in a namespace called `wondervector5000`. Namespaces let you partition records within an index and are essential for implementing `multitenancy` when you need to isolate the data of each `customer/user`."
      ],
      "metadata": {
        "id": "2RS9o0mCcA_3"
      }
    },
    {
      "cell_type": "code",
      "source": [
        "namespace = \"wondervector5000\"\n",
        "\n",
        "docsearch = PineconeVectorStore.from_documents(\n",
        "    documents=md_header_splits,\n",
        "    index_name=index_name,\n",
        "    embedding=embeddings,\n",
        "    namespace=namespace\n",
        ")\n",
        "\n",
        "time.sleep(10)\n",
        "\n",
        "print(\"Index after upsert:\")\n",
        "print(pc.Index(index_name).describe_index_stats())\n",
        "print(\"\\n\")\n",
        "time.sleep(2)"
      ],
      "metadata": {
        "colab": {
          "base_uri": "https://localhost:8080/"
        },
        "id": "a6Pn7ROzcJip",
        "outputId": "313cabca-3e7c-46b9-892b-3fbe2ab6f07b"
      },
      "execution_count": null,
      "outputs": [
        {
          "output_type": "stream",
          "name": "stdout",
          "text": [
            "Index after upsert:\n",
            "{'dimension': 1024,\n",
            " 'index_fullness': 0.0,\n",
            " 'namespaces': {'wondervector5000': {'vector_count': 5}},\n",
            " 'total_vector_count': 5}\n",
            "\n",
            "\n"
          ]
        }
      ]
    },
    {
      "cell_type": "markdown",
      "source": [
        "### List & Query\n",
        "\n",
        "Use Pinecone’s `list` and `query` operations to look at one of the records:"
      ],
      "metadata": {
        "id": "XbpH6eyuhyjo"
      }
    },
    {
      "cell_type": "code",
      "source": [
        "index = pc.Index(index_name)\n",
        "\n",
        "namespace = \"wondervector5000\"\n",
        "\n",
        "\n",
        "\n",
        "for ids in index.list(namespace=namespace):\n",
        "    query = index.query(\n",
        "        id=ids[0],\n",
        "        namespace=namespace,\n",
        "        top_k=1, # only return one value\n",
        "        include_values=True,\n",
        "        include_metadata=True\n",
        "    )\n",
        "    print(query)\n",
        "    print(\"\\n\")\n"
      ],
      "metadata": {
        "colab": {
          "base_uri": "https://localhost:8080/"
        },
        "id": "P-mxNx_Hh4Bx",
        "outputId": "4bbdc0b2-a99c-494d-9f8c-1ae7596e684b"
      },
      "execution_count": null,
      "outputs": [
        {
          "output_type": "stream",
          "name": "stdout",
          "text": [
            "{'matches': [{'id': '0fef1dc0-daae-4a65-b236-00741101d211',\n",
            "              'metadata': {'header_2': 'Use cases',\n",
            "                           'text': '## Use cases  \\n'\n",
            "                                   'While the WonderVector5000 is '\n",
            "                                   'fundamentally a device of fiction and fun, '\n",
            "                                   \"let's imagine some scenarios where it \"\n",
            "                                   'could hypothetically be applied:  \\n'\n",
            "                                   '- Time Travel Adventures: Use the '\n",
            "                                   'Chrono-Distortion Field to visit key '\n",
            "                                   'moments in history or glimpse into the '\n",
            "                                   'future. While actual temporal manipulation '\n",
            "                                   'is impossible, the mere idea sparks '\n",
            "                                   'endless storytelling possibilities.  \\n'\n",
            "                                   '- Interdimensional Gaming: Engage with the '\n",
            "                                   'Multi-Dimensional Holo-Interface for '\n",
            "                                   'immersive, out-of-this-world gaming '\n",
            "                                   'experiences. Imagine games that adapt to '\n",
            "                                   'your thoughts via the Neural Fandango '\n",
            "                                   'Synchronizer, creating a unique and '\n",
            "                                   'ever-changing environment.  \\n'\n",
            "                                   '- Infinite Creativity: Harness the '\n",
            "                                   'Hyperbolic Singularity Matrix for '\n",
            "                                   'brainstorming sessions. By compressing '\n",
            "                                   'infinite possibilities into hyperbolic '\n",
            "                                   'states, it could theoretically help unlock '\n",
            "                                   'unprecedented creative ideas.  \\n'\n",
            "                                   '- Energy Experiments: Explore the concept '\n",
            "                                   'of limitless power with the Aetherial Flux '\n",
            "                                   'Capacitor. Though purely fictional, the '\n",
            "                                   'notion of drawing energy from the aether '\n",
            "                                   'could inspire innovative thinking in '\n",
            "                                   'energy research.'},\n",
            "              'score': 1.00191879,\n",
            "              'values': [0.0190124512,\n",
            "                         0.0140457153,\n",
            "                         -0.0139389038,\n",
            "                         -0.0279846191,\n",
            "                         0.0075302124,\n",
            "                         -0.0251464844,\n",
            "                         -0.0140914917,\n",
            "                         0.0814209,\n",
            "                         0.0700073242,\n",
            "                         -0.032043457,\n",
            "                         0.027130127,\n",
            "                         0.02784729,\n",
            "                         -0.0103607178,\n",
            "                         -0.0129699707,\n",
            "                         -0.0297546387,\n",
            "                         -0.00175476074,\n",
            "                         -0.0289611816,\n",
            "                         0.0499572754,\n",
            "                         -0.0177307129,\n",
            "                         -0.0148391724,\n",
            "                         0.0497741699,\n",
            "                         -0.0296783447,\n",
            "                         -0.0279388428,\n",
            "                         -0.0258178711,\n",
            "                         -0.0391235352,\n",
            "                         0.00400543213,\n",
            "                         -0.0388793945,\n",
            "                         -0.0162963867,\n",
            "                         0.0109863281,\n",
            "                         -0.0445251465,\n",
            "                         -0.0232391357,\n",
            "                         0.00149250031,\n",
            "                         -0.0447998047,\n",
            "                         -0.0076751709,\n",
            "                         -0.0160217285,\n",
            "                         0.0159301758,\n",
            "                         0.0296936035,\n",
            "                         0.0323181152,\n",
            "                         -0.0311737061,\n",
            "                         0.0485839844,\n",
            "                         -0.0325927734,\n",
            "                         0.0287017822,\n",
            "                         -0.0220184326,\n",
            "                         -0.0147399902,\n",
            "                         -0.0193328857,\n",
            "                         -0.00187492371,\n",
            "                         0.0218811035,\n",
            "                         -0.00676727295,\n",
            "                         0.0102615356,\n",
            "                         0.0144729614,\n",
            "                         0.0235137939,\n",
            "                         0.0211334229,\n",
            "                         -0.0113830566,\n",
            "                         -0.036529541,\n",
            "                         -0.0135803223,\n",
            "                         0.0611572266,\n",
            "                         -0.0615844727,\n",
            "                         0.00454711914,\n",
            "                         -0.0344543457,\n",
            "                         0.00761413574,\n",
            "                         0.00748825073,\n",
            "                         -0.0251922607,\n",
            "                         0.0347595215,\n",
            "                         -0.014175415,\n",
            "                         -0.0336303711,\n",
            "                         0.0168609619,\n",
            "                         0.0199584961,\n",
            "                         0.0208282471,\n",
            "                         -0.0261993408,\n",
            "                         -0.00997161865,\n",
            "                         -0.0191040039,\n",
            "                         0.0317077637,\n",
            "                         -0.027557373,\n",
            "                         -0.0293579102,\n",
            "                         -0.035369873,\n",
            "                         -0.0190582275,\n",
            "                         0.00703048706,\n",
            "                         -0.0165252686,\n",
            "                         0.0162811279,\n",
            "                         -0.0132141113,\n",
            "                         0.0654907227,\n",
            "                         -0.0121536255,\n",
            "                         0.0386962891,\n",
            "                         -0.0284881592,\n",
            "                         0.0407409668,\n",
            "                         0.0222320557,\n",
            "                         0.0327148438,\n",
            "                         0.0383911133,\n",
            "                         0.0369262695,\n",
            "                         0.0481872559,\n",
            "                         -0.0291748047,\n",
            "                         0.0695800781,\n",
            "                         0.026473999,\n",
            "                         -0.0193634033,\n",
            "                         -0.0289306641,\n",
            "                         0.0423584,\n",
            "                         0.0405578613,\n",
            "                         -0.0021648407,\n",
            "                         -0.00645446777,\n",
            "                         0.0237121582,\n",
            "                         -0.0211486816,\n",
            "                         0.00743484497,\n",
            "                         0.0292053223,\n",
            "                         -0.0405883789,\n",
            "                         -0.0211486816,\n",
            "                         -0.00615692139,\n",
            "                         0.0315551758,\n",
            "                         0.0433349609,\n",
            "                         0.0238800049,\n",
            "                         0.00712966919,\n",
            "                         0.0254669189,\n",
            "                         0.0664672852,\n",
            "                         0.0173797607,\n",
            "                         -0.0216522217,\n",
            "                         -0.0244598389,\n",
            "                         0.00295066833,\n",
            "                         0.00729751587,\n",
            "                         -0.0145339966,\n",
            "                         0.0175933838,\n",
            "                         0.00316429138,\n",
            "                         0.0216827393,\n",
            "                         0.0255889893,\n",
            "                         0.0106735229,\n",
            "                         -0.0463867188,\n",
            "                         0.00829315186,\n",
            "                         -0.0200805664,\n",
            "                         0.0238952637,\n",
            "                         0.0367431641,\n",
            "                         -0.0108261108,\n",
            "                         0.0250091553,\n",
            "                         0.0159912109,\n",
            "                         0.0323486328,\n",
            "                         -0.00148487091,\n",
            "                         -0.0174865723,\n",
            "                         -0.0619506836,\n",
            "                         -0.0382385254,\n",
            "                         -0.0376281738,\n",
            "                         0.00881195068,\n",
            "                         -0.0503234863,\n",
            "                         0.00359535217,\n",
            "                         -0.0118713379,\n",
            "                         0.0193786621,\n",
            "                         0.0388793945,\n",
            "                         -0.0240783691,\n",
            "                         -0.0344848633,\n",
            "                         -0.0685424805,\n",
            "                         -0.0417785645,\n",
            "                         0.0111160278,\n",
            "                         0.000566482544,\n",
            "                         -0.00053024292,\n",
            "                         -0.00117492676,\n",
            "                         -0.00505447388,\n",
            "                         -0.0363464355,\n",
            "                         -0.00386047363,\n",
            "                         0.0346069336,\n",
            "                         0.00553894043,\n",
            "                         0.00214767456,\n",
            "                         0.049407959,\n",
            "                         -0.000243067741,\n",
            "                         0.00982666,\n",
            "                         -0.0611572266,\n",
            "                         -0.0717773438,\n",
            "                         -0.0373840332,\n",
            "                         0.0121002197,\n",
            "                         0.0121994019,\n",
            "                         -0.0123748779,\n",
            "                         0.0340576172,\n",
            "                         0.0242004395,\n",
            "                         0.00458908081,\n",
            "                         -0.0336914062,\n",
            "                         -0.00521469116,\n",
            "                         -0.0246734619,\n",
            "                         0.0299072266,\n",
            "                         -0.0501709,\n",
            "                         -0.0300598145,\n",
            "                         0.00734710693,\n",
            "                         0.0315856934,\n",
            "                         0.0437011719,\n",
            "                         0.0288848877,\n",
            "                         -0.0420837402,\n",
            "                         0.0226745605,\n",
            "                         0.0329589844,\n",
            "                         0.035736084,\n",
            "                         -0.0230712891,\n",
            "                         -0.0422363281,\n",
            "                         0.012550354,\n",
            "                         0.0108566284,\n",
            "                         0.00615692139,\n",
            "                         0.0198669434,\n",
            "                         0.0189819336,\n",
            "                         0.0324401855,\n",
            "                         -0.0037021637,\n",
            "                         0.0343322754,\n",
            "                         0.0311279297,\n",
            "                         -0.0323791504,\n",
            "                         0.0333557129,\n",
            "                         -0.0179595947,\n",
            "                         0.00605392456,\n",
            "                         -0.0315551758,\n",
            "                         -0.0268554688,\n",
            "                         0.0216217041,\n",
            "                         0.0219421387,\n",
            "                         -0.0513916,\n",
            "                         0.0222473145,\n",
            "                         0.0142288208,\n",
            "                         -0.0237884521,\n",
            "                         -0.0397949219,\n",
            "                         -0.0272827148,\n",
            "                         0.0127334595,\n",
            "                         -0.0380249023,\n",
            "                         -0.0384216309,\n",
            "                         -0.0068359375,\n",
            "                         0.0327453613,\n",
            "                         0.0366210938,\n",
            "                         0.000639438629,\n",
            "                         -0.0599060059,\n",
            "                         -0.0323791504,\n",
            "                         -0.015914917,\n",
            "                         0.0363464355,\n",
            "                         -0.052734375,\n",
            "                         0.0124435425,\n",
            "                         0.0545043945,\n",
            "                         0.00917053223,\n",
            "                         0.0372009277,\n",
            "                         0.00938415527,\n",
            "                         0.00326919556,\n",
            "                         0.0176086426,\n",
            "                         0.0324707031,\n",
            "                         0.0454711914,\n",
            "                         0.0331115723,\n",
            "                         -0.00489425659,\n",
            "                         0.0211639404,\n",
            "                         -0.0443725586,\n",
            "                         0.00409698486,\n",
            "                         0.018951416,\n",
            "                         -0.0214996338,\n",
            "                         -0.0614624023,\n",
            "                         -0.0147628784,\n",
            "                         0.0286712646,\n",
            "                         0.032989502,\n",
            "                         -0.0317993164,\n",
            "                         0.00814056396,\n",
            "                         0.0413208,\n",
            "                         0.00119304657,\n",
            "                         0.0027923584,\n",
            "                         0.00726699829,\n",
            "                         0.00659942627,\n",
            "                         -0.0366210938,\n",
            "                         0.029083252,\n",
            "                         -0.0112457275,\n",
            "                         0.0279998779,\n",
            "                         0.0475769043,\n",
            "                         -0.0265197754,\n",
            "                         0.00143051147,\n",
            "                         0.0581054688,\n",
            "                         0.0286865234,\n",
            "                         0.0334777832,\n",
            "                         -0.0112991333,\n",
            "                         -0.0308685303,\n",
            "                         -0.0274658203,\n",
            "                         0.00772476196,\n",
            "                         0.020980835,\n",
            "                         0.00518417358,\n",
            "                         0.0183105469,\n",
            "                         0.0248718262,\n",
            "                         0.0201416016,\n",
            "                         -0.0177307129,\n",
            "                         -0.0334472656,\n",
            "                         -0.00298690796,\n",
            "                         -0.0689086914,\n",
            "                         -0.0344238281,\n",
            "                         -0.0299530029,\n",
            "                         -0.0485534668,\n",
            "                         -0.00142192841,\n",
            "                         -0.0350952148,\n",
            "                         -0.020904541,\n",
            "                         -0.0641479492,\n",
            "                         -0.0293884277,\n",
            "                         -0.0169677734,\n",
            "                         0.0317993164,\n",
            "                         -0.0087890625,\n",
            "                         -0.0403137207,\n",
            "                         0.031463623,\n",
            "                         -0.0244445801,\n",
            "                         0.00200271606,\n",
            "                         -0.0195007324,\n",
            "                         0.0135192871,\n",
            "                         0.006275177,\n",
            "                         0.0106048584,\n",
            "                         -0.0230407715,\n",
            "                         0.0325927734,\n",
            "                         -0.0486755371,\n",
            "                         0.0904541,\n",
            "                         0.0321960449,\n",
            "                         0.00975799561,\n",
            "                         0.0274810791,\n",
            "                         -0.044342041,\n",
            "                         -0.0973510742,\n",
            "                         -0.0469055176,\n",
            "                         0.020324707,\n",
            "                         -0.0393066406,\n",
            "                         -0.0419616699,\n",
            "                         0.0225372314,\n",
            "                         6.59227371e-05,\n",
            "                         -0.0272064209,\n",
            "                         -0.0304107666,\n",
            "                         -0.0161895752,\n",
            "                         0.0126113892,\n",
            "                         -0.059387207,\n",
            "                         -0.00701522827,\n",
            "                         0.0424499512,\n",
            "                         0.0200195312,\n",
            "                         0.0132675171,\n",
            "                         -0.0399475098,\n",
            "                         -0.0493469238,\n",
            "                         -0.0317077637,\n",
            "                         -0.0486450195,\n",
            "                         0.0404052734,\n",
            "                         -0.0176391602,\n",
            "                         0.0774536133,\n",
            "                         -0.0388183594,\n",
            "                         -0.0110931396,\n",
            "                         -0.041595459,\n",
            "                         0.0253448486,\n",
            "                         0.0243835449,\n",
            "                         0.0149993896,\n",
            "                         0.0219726562,\n",
            "                         -0.0117874146,\n",
            "                         0.0350646973,\n",
            "                         -0.0176849365,\n",
            "                         0.036529541,\n",
            "                         -0.0202941895,\n",
            "                         0.0177307129,\n",
            "                         0.0485229492,\n",
            "                         -0.0165252686,\n",
            "                         0.0106430054,\n",
            "                         -0.0438842773,\n",
            "                         0.00668334961,\n",
            "                         0.0492858887,\n",
            "                         -0.0216369629,\n",
            "                         0.0402832031,\n",
            "                         -0.00740432739,\n",
            "                         -0.0444946289,\n",
            "                         4.63724136e-05,\n",
            "                         -0.00545883179,\n",
            "                         -0.0563354492,\n",
            "                         0.0093536377,\n",
            "                         -0.0258636475,\n",
            "                         0.0299682617,\n",
            "                         0.0244903564,\n",
            "                         0.0101852417,\n",
            "                         -0.0178833,\n",
            "                         0.0302581787,\n",
            "                         -0.0325317383,\n",
            "                         -0.00450134277,\n",
            "                         0.0328979492,\n",
            "                         -0.00262451172,\n",
            "                         -0.0411987305,\n",
            "                         0.00301170349,\n",
            "                         -0.00346755981,\n",
            "                         0.013168335,\n",
            "                         0.00933837891,\n",
            "                         0.0276641846,\n",
            "                         -0.0240783691,\n",
            "                         -0.0261077881,\n",
            "                         -0.0101013184,\n",
            "                         0.0206298828,\n",
            "                         -0.008644104,\n",
            "                         -0.0608215332,\n",
            "                         -0.0422363281,\n",
            "                         0.0356140137,\n",
            "                         0.0280151367,\n",
            "                         -0.0173492432,\n",
            "                         0.00699996948,\n",
            "                         -0.00339889526,\n",
            "                         -0.0117416382,\n",
            "                         -0.0916137695,\n",
            "                         -0.0103607178,\n",
            "                         0.0162200928,\n",
            "                         -0.02784729,\n",
            "                         -0.0532226562,\n",
            "                         -0.0207824707,\n",
            "                         0.0286712646,\n",
            "                         -0.0435180664,\n",
            "                         -0.0347290039,\n",
            "                         -0.0410766602,\n",
            "                         0.186035156,\n",
            "                         -0.0257873535,\n",
            "                         0.0493164062,\n",
            "                         -0.0123825073,\n",
            "                         -0.000909805298,\n",
            "                         0.0196380615,\n",
            "                         -0.00482940674,\n",
            "                         0.0442199707,\n",
            "                         0.0240936279,\n",
            "                         0.0159606934,\n",
            "                         -0.0313720703,\n",
            "                         0.0147857666,\n",
            "                         0.0360107422,\n",
            "                         -0.0204772949,\n",
            "                         0.0264587402,\n",
            "                         0.0341186523,\n",
            "                         0.021484375,\n",
            "                         0.0334472656,\n",
            "                         0.0473938,\n",
            "                         -0.0121841431,\n",
            "                         0.0417175293,\n",
            "                         -0.0417785645,\n",
            "                         0.0230102539,\n",
            "                         0.0223083496,\n",
            "                         -0.0445556641,\n",
            "                         0.000339269638,\n",
            "                         0.01953125,\n",
            "                         0.044708252,\n",
            "                         -0.0315551758,\n",
            "                         0.0625610352,\n",
            "                         -0.00310134888,\n",
            "                         0.0440063477,\n",
            "                         -0.0475158691,\n",
            "                         -0.0312042236,\n",
            "                         0.000795841217,\n",
            "                         0.00119686127,\n",
            "                         0.0145721436,\n",
            "                         -0.0183563232,\n",
            "                         0.0298309326,\n",
            "                         -0.0132217407,\n",
            "                         -0.0099105835,\n",
            "                         0.0269317627,\n",
            "                         -0.0518188477,\n",
            "                         0.0528564453,\n",
            "                         -0.00394058228,\n",
            "                         0.0436096191,\n",
            "                         0.0377197266,\n",
            "                         -0.0269165039,\n",
            "                         -0.0313720703,\n",
            "                         -0.00177192688,\n",
            "                         0.0222473145,\n",
            "                         0.0306243896,\n",
            "                         -0.0205078125,\n",
            "                         -0.0537109375,\n",
            "                         -0.00819397,\n",
            "                         -0.0506896973,\n",
            "                         -0.0341186523,\n",
            "                         0.0107269287,\n",
            "                         0.0122070312,\n",
            "                         0.0317077637,\n",
            "                         0.0400085449,\n",
            "                         -0.00294113159,\n",
            "                         -0.0462341309,\n",
            "                         -0.0201416016,\n",
            "                         0.0681762695,\n",
            "                         0.00554275513,\n",
            "                         -0.0223999023,\n",
            "                         -0.0449523926,\n",
            "                         -0.0156021118,\n",
            "                         -0.0291290283,\n",
            "                         -0.0273590088,\n",
            "                         -0.0357666,\n",
            "                         -0.0300598145,\n",
            "                         0.0214538574,\n",
            "                         0.00843811,\n",
            "                         -0.0268554688,\n",
            "                         -0.0684204102,\n",
            "                         0.0280151367,\n",
            "                         0.0107116699,\n",
            "                         -0.0205841064,\n",
            "                         0.0262756348,\n",
            "                         -0.025970459,\n",
            "                         -0.0138778687,\n",
            "                         -0.0235137939,\n",
            "                         0.0471191406,\n",
            "                         -0.0305175781,\n",
            "                         0.0211181641,\n",
            "                         0.0476379395,\n",
            "                         -0.0712890625,\n",
            "                         0.000713348389,\n",
            "                         -0.00343513489,\n",
            "                         0.0164794922,\n",
            "                         -0.0222167969,\n",
            "                         0.0388183594,\n",
            "                         -0.0066986084,\n",
            "                         -0.0294342041,\n",
            "                         -0.000545024872,\n",
            "                         0.0516052246,\n",
            "                         -0.00997161865,\n",
            "                         -0.0387268066,\n",
            "                         0.0114364624,\n",
            "                         0.0108261108,\n",
            "                         -0.024887085,\n",
            "                         -0.0235443115,\n",
            "                         -0.025970459,\n",
            "                         -0.0223846436,\n",
            "                         0.0208282471,\n",
            "                         0.0392456055,\n",
            "                         0.0344543457,\n",
            "                         0.0169830322,\n",
            "                         0.0240936279,\n",
            "                         0.0104599,\n",
            "                         0.000894546509,\n",
            "                         -0.0279998779,\n",
            "                         0.0566101074,\n",
            "                         0.031829834,\n",
            "                         0.0226135254,\n",
            "                         -0.0651855469,\n",
            "                         -0.00392913818,\n",
            "                         0.0283050537,\n",
            "                         -0.0101928711,\n",
            "                         0.0584411621,\n",
            "                         -0.0468139648,\n",
            "                         0.0699462891,\n",
            "                         -0.0284118652,\n",
            "                         0.0497436523,\n",
            "                         -0.0384521484,\n",
            "                         0.000912666321,\n",
            "                         0.0825805664,\n",
            "                         0.00584411621,\n",
            "                         0.00365638733,\n",
            "                         -0.0292358398,\n",
            "                         -0.057220459,\n",
            "                         0.0320129395,\n",
            "                         0.0544128418,\n",
            "                         -0.0207824707,\n",
            "                         0.0862426758,\n",
            "                         -0.0274505615,\n",
            "                         0.0227661133,\n",
            "                         0.0579528809,\n",
            "                         0.00394439697,\n",
            "                         -0.0030632019,\n",
            "                         -0.0248260498,\n",
            "                         0.0150680542,\n",
            "                         0.0204925537,\n",
            "                         0.0322265625,\n",
            "                         -0.0406799316,\n",
            "                         -0.0254211426,\n",
            "                         -0.0123901367,\n",
            "                         -0.0292663574,\n",
            "                         0.0217437744,\n",
            "                         0.000515460968,\n",
            "                         0.00453567505,\n",
            "                         -0.00690078735,\n",
            "                         -0.0263061523,\n",
            "                         -0.0274047852,\n",
            "                         0.0388793945,\n",
            "                         0.00408935547,\n",
            "                         0.0346679688,\n",
            "                         -0.0151824951,\n",
            "                         -0.0374755859,\n",
            "                         0.00503158569,\n",
            "                         0.0352783203,\n",
            "                         0.0777587891,\n",
            "                         0.0375061035,\n",
            "                         0.0422363281,\n",
            "                         -0.00729370117,\n",
            "                         0.0417785645,\n",
            "                         0.0533447266,\n",
            "                         0.0221557617,\n",
            "                         -0.0140991211,\n",
            "                         -0.0290985107,\n",
            "                         0.00243759155,\n",
            "                         0.0302276611,\n",
            "                         0.0126571655,\n",
            "                         -0.0146179199,\n",
            "                         -0.0188903809,\n",
            "                         0.0301513672,\n",
            "                         -0.0579223633,\n",
            "                         0.0205688477,\n",
            "                         -0.0229187012,\n",
            "                         0.0362854,\n",
            "                         0.0305175781,\n",
            "                         -0.0575256348,\n",
            "                         -0.0293273926,\n",
            "                         -0.011932373,\n",
            "                         0.00691986084,\n",
            "                         -0.0286102295,\n",
            "                         -0.0344848633,\n",
            "                         -0.0127105713,\n",
            "                         -0.0301055908,\n",
            "                         0.0814209,\n",
            "                         -0.0390319824,\n",
            "                         0.0180206299,\n",
            "                         -0.0355224609,\n",
            "                         0.0035572052,\n",
            "                         0.0497436523,\n",
            "                         0.0386047363,\n",
            "                         -0.00651168823,\n",
            "                         -0.0292053223,\n",
            "                         -0.015296936,\n",
            "                         -0.0242004395,\n",
            "                         -0.00429153442,\n",
            "                         0.0117874146,\n",
            "                         -0.00547027588,\n",
            "                         -0.0246429443,\n",
            "                         0.00997161865,\n",
            "                         0.00876617432,\n",
            "                         0.0311584473,\n",
            "                         0.029006958,\n",
            "                         -0.0299072266,\n",
            "                         -0.0187225342,\n",
            "                         0.00359916687,\n",
            "                         0.0367126465,\n",
            "                         0.022857666,\n",
            "                         0.0246734619,\n",
            "                         0.0136795044,\n",
            "                         0.0307312012,\n",
            "                         0.0103302,\n",
            "                         -0.0417175293,\n",
            "                         0.0112533569,\n",
            "                         0.0454711914,\n",
            "                         0.0104293823,\n",
            "                         -0.0321044922,\n",
            "                         -0.032989502,\n",
            "                         -0.0382385254,\n",
            "                         0.0401306152,\n",
            "                         -0.00450134277,\n",
            "                         0.00208854675,\n",
            "                         -0.0260620117,\n",
            "                         0.0101394653,\n",
            "                         -0.0311279297,\n",
            "                         -0.0401611328,\n",
            "                         -0.0603942871,\n",
            "                         -0.00861358643,\n",
            "                         -0.0537109375,\n",
            "                         0.0465698242,\n",
            "                         0.0323181152,\n",
            "                         0.00192928314,\n",
            "                         -0.0186462402,\n",
            "                         0.0206756592,\n",
            "                         0.00940704346,\n",
            "                         -0.00675582886,\n",
            "                         -0.00626754761,\n",
            "                         -0.0330200195,\n",
            "                         -0.000695228577,\n",
            "                         0.00473403931,\n",
            "                         -0.0163574219,\n",
            "                         0.0548706055,\n",
            "                         0.022857666,\n",
            "                         0.0082321167,\n",
            "                         -0.0087890625,\n",
            "                         0.0523986816,\n",
            "                         0.0476379395,\n",
            "                         -0.0378723145,\n",
            "                         -0.0414733887,\n",
            "                         0.00470733643,\n",
            "                         -0.030670166,\n",
            "                         -0.0530700684,\n",
            "                         -0.071472168,\n",
            "                         0.0259094238,\n",
            "                         -0.000941753387,\n",
            "                         -0.0209960938,\n",
            "                         0.013092041,\n",
            "                         -0.0532836914,\n",
            "                         0.0344238281,\n",
            "                         0.0199890137,\n",
            "                         -0.0111541748,\n",
            "                         -0.0137252808,\n",
            "                         -0.0461425781,\n",
            "                         0.0363464355,\n",
            "                         0.00143432617,\n",
            "                         -0.0443115234,\n",
            "                         -0.0659179688,\n",
            "                         0.0565795898,\n",
            "                         0.0200958252,\n",
            "                         -0.0473632812,\n",
            "                         -0.0263214111,\n",
            "                         -0.00622558594,\n",
            "                         -0.0413513184,\n",
            "                         -0.0354919434,\n",
            "                         0.0284729,\n",
            "                         0.00956726074,\n",
            "                         -0.0213470459,\n",
            "                         0.0392150879,\n",
            "                         0.0175323486,\n",
            "                         -0.0299377441,\n",
            "                         0.0227966309,\n",
            "                         -0.0221862793,\n",
            "                         -0.0220031738,\n",
            "                         -0.00421905518,\n",
            "                         0.0104751587,\n",
            "                         -0.0227203369,\n",
            "                         -0.00700378418,\n",
            "                         -0.0401306152,\n",
            "                         -0.0544128418,\n",
            "                         -0.0286407471,\n",
            "                         0.00512695312,\n",
            "                         -0.017074585,\n",
            "                         -0.0107574463,\n",
            "                         0.0207672119,\n",
            "                         -0.0240478516,\n",
            "                         -0.045501709,\n",
            "                         -0.0233001709,\n",
            "                         -0.0217132568,\n",
            "                         0.0157165527,\n",
            "                         -0.0232849121,\n",
            "                         -0.00895690918,\n",
            "                         0.0415039062,\n",
            "                         0.0406799316,\n",
            "                         -0.00341415405,\n",
            "                         -0.0505065918,\n",
            "                         0.0169525146,\n",
            "                         0.0333862305,\n",
            "                         -0.00769042969,\n",
            "                         -0.0103607178,\n",
            "                         0.0321044922,\n",
            "                         -0.0276031494,\n",
            "                         -0.0261383057,\n",
            "                         0.0523681641,\n",
            "                         -0.0356140137,\n",
            "                         -0.0218811035,\n",
            "                         -0.0379638672,\n",
            "                         0.0109024048,\n",
            "                         0.0161132812,\n",
            "                         0.0276641846,\n",
            "                         0.0363769531,\n",
            "                         0.0276184082,\n",
            "                         0.0267944336,\n",
            "                         -0.00403213501,\n",
            "                         0.0238189697,\n",
            "                         -0.0218963623,\n",
            "                         -0.0442199707,\n",
            "                         0.00277709961,\n",
            "                         -0.0271606445,\n",
            "                         -0.0129623413,\n",
            "                         -0.0221252441,\n",
            "                         -0.00386047363,\n",
            "                         0.0172119141,\n",
            "                         -0.0241546631,\n",
            "                         -0.02784729,\n",
            "                         0.0209198,\n",
            "                         0.0415649414,\n",
            "                         -0.0146713257,\n",
            "                         0.0123138428,\n",
            "                         -0.00133323669,\n",
            "                         -0.0433654785,\n",
            "                         0.0165252686,\n",
            "                         -0.0221862793,\n",
            "                         0.00126552582,\n",
            "                         -0.0207061768,\n",
            "                         0.0380554199,\n",
            "                         0.00191020966,\n",
            "                         -0.00413513184,\n",
            "                         -0.0158996582,\n",
            "                         0.0226898193,\n",
            "                         -0.0298461914,\n",
            "                         0.0505371094,\n",
            "                         0.0153045654,\n",
            "                         -0.0277862549,\n",
            "                         -0.00371742249,\n",
            "                         0.0110168457,\n",
            "                         0.0489196777,\n",
            "                         0.0122146606,\n",
            "                         -0.0690307617,\n",
            "                         0.0216522217,\n",
            "                         -0.00402069092,\n",
            "                         0.0382385254,\n",
            "                         -0.00663375854,\n",
            "                         -0.0104293823,\n",
            "                         -0.0231933594,\n",
            "                         -0.00402069092,\n",
            "                         -0.0374145508,\n",
            "                         -0.0386352539,\n",
            "                         -0.0325012207,\n",
            "                         0.041595459,\n",
            "                         -0.028717041,\n",
            "                         -0.00031208992,\n",
            "                         0.0273132324,\n",
            "                         0.0291748047,\n",
            "                         0.0231628418,\n",
            "                         -0.0673828125,\n",
            "                         -0.00436019897,\n",
            "                         -0.00709533691,\n",
            "                         0.0282897949,\n",
            "                         -0.0262908936,\n",
            "                         0.0122833252,\n",
            "                         0.0260467529,\n",
            "                         0.0227813721,\n",
            "                         0.0407104492,\n",
            "                         -0.0310516357,\n",
            "                         0.0378112793,\n",
            "                         -0.0359802246,\n",
            "                         0.0137786865,\n",
            "                         -0.0809326172,\n",
            "                         0.016418457,\n",
            "                         -0.0214080811,\n",
            "                         -0.029510498,\n",
            "                         -0.0404968262,\n",
            "                         -0.00223350525,\n",
            "                         -0.0380249023,\n",
            "                         0.0358886719,\n",
            "                         0.0401611328,\n",
            "                         -0.0465393066,\n",
            "                         -0.00137329102,\n",
            "                         -0.0086517334,\n",
            "                         0.0413513184,\n",
            "                         0.00984191895,\n",
            "                         0.00927734375,\n",
            "                         0.0396728516,\n",
            "                         0.0202484131,\n",
            "                         -0.00952911377,\n",
            "                         0.000395774841,\n",
            "                         0.00852203369,\n",
            "                         0.0391845703,\n",
            "                         -0.0252532959,\n",
            "                         0.0060043335,\n",
            "                         -0.00155925751,\n",
            "                         0.0385131836,\n",
            "                         0.0232543945,\n",
            "                         0.0255584717,\n",
            "                         0.0706787109,\n",
            "                         -0.0397338867,\n",
            "                         -0.0420532227,\n",
            "                         -0.0335693359,\n",
            "                         -0.0205993652,\n",
            "                         0.00531005859,\n",
            "                         0.0366210938,\n",
            "                         -0.0061378479,\n",
            "                         0.0463867188,\n",
            "                         -0.0279388428,\n",
            "                         -0.024887085,\n",
            "                         -0.0333557129,\n",
            "                         0.0342407227,\n",
            "                         -0.0348205566,\n",
            "                         0.0396728516,\n",
            "                         -0.00249862671,\n",
            "                         0.00597763062,\n",
            "                         -0.00450134277,\n",
            "                         0.0530700684,\n",
            "                         0.00413513184,\n",
            "                         -0.0427856445,\n",
            "                         -0.0144958496,\n",
            "                         -0.0152893066,\n",
            "                         -0.0224304199,\n",
            "                         -0.0115814209,\n",
            "                         0.017288208,\n",
            "                         0.0492553711,\n",
            "                         -0.0127716064,\n",
            "                         0.0510253906,\n",
            "                         0.0312805176,\n",
            "                         -0.0263977051,\n",
            "                         0.0191192627,\n",
            "                         0.0294799805,\n",
            "                         0.00463104248,\n",
            "                         -0.0200653076,\n",
            "                         -0.0395202637,\n",
            "                         -0.0142211914,\n",
            "                         -0.031829834,\n",
            "                         0.000541210175,\n",
            "                         -0.0677490234,\n",
            "                         -0.0221099854,\n",
            "                         -0.0255126953,\n",
            "                         0.00988769531,\n",
            "                         0.00614547729,\n",
            "                         -0.0189971924,\n",
            "                         0.0086517334,\n",
            "                         -0.00926208496,\n",
            "                         0.0306243896,\n",
            "                         -0.0328369141,\n",
            "                         0.00574493408,\n",
            "                         -0.00171852112,\n",
            "                         0.0209198,\n",
            "                         0.00440216064,\n",
            "                         -0.0365905762,\n",
            "                         -0.0520324707,\n",
            "                         0.00799560547,\n",
            "                         -0.0188293457,\n",
            "                         -0.0142364502,\n",
            "                         0.00880432129,\n",
            "                         0.00161361694,\n",
            "                         -0.0145950317,\n",
            "                         -0.045715332,\n",
            "                         0.0249176025,\n",
            "                         -0.0767211914,\n",
            "                         0.0121002197,\n",
            "                         0.0176696777,\n",
            "                         -0.0174865723,\n",
            "                         -0.0400695801,\n",
            "                         -0.0292205811,\n",
            "                         -0.056854248,\n",
            "                         -0.0195159912,\n",
            "                         -0.0192260742,\n",
            "                         0.0298156738,\n",
            "                         -0.0223846436,\n",
            "                         -0.0205688477,\n",
            "                         0.0518798828,\n",
            "                         -0.0076675415,\n",
            "                         0.0011548996,\n",
            "                         0.0420227051,\n",
            "                         0.0570373535,\n",
            "                         -0.0134658813,\n",
            "                         0.0291900635,\n",
            "                         -0.0429077148,\n",
            "                         -0.0362548828,\n",
            "                         -0.0139083862,\n",
            "                         -0.00849914551,\n",
            "                         -0.0373840332,\n",
            "                         -0.00666809082,\n",
            "                         0.0136032104,\n",
            "                         0.0174865723,\n",
            "                         0.0247039795,\n",
            "                         -0.0214538574,\n",
            "                         0.013092041,\n",
            "                         -0.0401916504,\n",
            "                         -0.0382995605,\n",
            "                         0.046081543,\n",
            "                         -0.027053833,\n",
            "                         0.0230407715,\n",
            "                         -0.0284423828,\n",
            "                         -0.0110855103,\n",
            "                         -0.0361633301,\n",
            "                         -0.0043296814,\n",
            "                         -0.0313110352,\n",
            "                         0.0614013672,\n",
            "                         -0.0111923218,\n",
            "                         0.0314331055,\n",
            "                         0.0372924805,\n",
            "                         -0.0145339966,\n",
            "                         -0.0134353638,\n",
            "                         -0.00531768799,\n",
            "                         0.0755615234,\n",
            "                         -0.00138664246,\n",
            "                         0.0215148926,\n",
            "                         -0.0337219238,\n",
            "                         -0.0209198,\n",
            "                         -0.0246734619,\n",
            "                         -0.0308990479,\n",
            "                         -0.0432128906,\n",
            "                         0.0296783447,\n",
            "                         -0.0324707031,\n",
            "                         -0.0544128418,\n",
            "                         -0.0442504883,\n",
            "                         -0.0190734863,\n",
            "                         0.0069770813,\n",
            "                         -0.0233612061,\n",
            "                         -0.025604248,\n",
            "                         0.0474243164,\n",
            "                         0.0043258667,\n",
            "                         0.0306396484,\n",
            "                         0.00092792511,\n",
            "                         -0.0245666504,\n",
            "                         0.00699996948,\n",
            "                         0.0352478027,\n",
            "                         -0.013710022,\n",
            "                         0.00129508972,\n",
            "                         -0.0108108521,\n",
            "                         0.0382080078,\n",
            "                         -0.0109024048,\n",
            "                         -0.0602722168,\n",
            "                         0.0349121094,\n",
            "                         0.0115585327,\n",
            "                         -0.0281982422,\n",
            "                         0.00625228882,\n",
            "                         -0.00044631958,\n",
            "                         0.0153503418,\n",
            "                         -0.0238647461,\n",
            "                         0.0213012695,\n",
            "                         0.0179748535,\n",
            "                         -0.00826263428,\n",
            "                         0.056427002,\n",
            "                         0.0309906,\n",
            "                         0.0417785645,\n",
            "                         0.0171661377,\n",
            "                         0.0285949707,\n",
            "                         0.00619506836,\n",
            "                         0.0144042969,\n",
            "                         0.0205993652,\n",
            "                         0.0266876221,\n",
            "                         0.0150756836,\n",
            "                         -0.000865459442,\n",
            "                         0.0316162109,\n",
            "                         -0.01197052,\n",
            "                         0.0407714844,\n",
            "                         -0.035369873,\n",
            "                         0.0149917603,\n",
            "                         -0.0336914062,\n",
            "                         0.000719547272,\n",
            "                         0.0297698975,\n",
            "                         -0.0184173584,\n",
            "                         -0.00845336914,\n",
            "                         -0.000943660736,\n",
            "                         -0.0221099854,\n",
            "                         -0.00897216797,\n",
            "                         0.0267028809,\n",
            "                         0.00807952881,\n",
            "                         0.0424499512,\n",
            "                         -0.00846099854,\n",
            "                         -0.0421142578,\n",
            "                         -0.0401916504,\n",
            "                         0.00671768188,\n",
            "                         -0.0180053711,\n",
            "                         -0.0403137207,\n",
            "                         0.0330505371,\n",
            "                         0.0419311523,\n",
            "                         -0.0165252686,\n",
            "                         0.0285186768,\n",
            "                         0.00801086426,\n",
            "                         0.0221710205,\n",
            "                         -0.0104980469,\n",
            "                         0.0196228027,\n",
            "                         -0.0311431885,\n",
            "                         -0.00847625732,\n",
            "                         0.0210418701,\n",
            "                         0.0415649414,\n",
            "                         0.00226020813,\n",
            "                         -0.0221405029,\n",
            "                         -0.016784668,\n",
            "                         -0.0114746094,\n",
            "                         0.0138473511,\n",
            "                         -0.0383911133,\n",
            "                         0.0304412842,\n",
            "                         -0.01902771,\n",
            "                         -0.0279693604,\n",
            "                         -0.0176086426,\n",
            "                         0.031036377,\n",
            "                         0.0118713379,\n",
            "                         0.0236206055,\n",
            "                         -0.0405273438,\n",
            "                         -0.0329589844,\n",
            "                         0.0196533203,\n",
            "                         -0.0341796875,\n",
            "                         -0.0092086792,\n",
            "                         -0.0139923096,\n",
            "                         0.0133361816,\n",
            "                         -0.00820922852,\n",
            "                         -0.0266418457,\n",
            "                         0.00904846191]}],\n",
            " 'namespace': 'wondervector5000',\n",
            " 'usage': {'read_units': 6}}\n",
            "\n",
            "\n"
          ]
        }
      ]
    },
    {
      "cell_type": "markdown",
      "source": [
        "## [Use the chatbot](https://docs.pinecone.io/guides/get-started/build-a-rag-chatbot#3-use-the-chatbot)\n",
        "\n",
        "Now that your document is stored as embeddings in Pinecone, when you send questions to the LLM, you can add relevant knowledge from your Pinecone index to ensure that the LLM returns an accurate response."
      ],
      "metadata": {
        "id": "uJkS9gW_qjQT"
      }
    },
    {
      "cell_type": "markdown",
      "source": [
        "### Initialize a LangChain\n",
        "\n",
        "\n",
        "Initialize a `LangChain` object for chatting with GROQ llama3 LLM. GROQ is paid but it provide some limitted free access."
      ],
      "metadata": {
        "id": "xEwnaLUtqzJG"
      }
    },
    {
      "cell_type": "code",
      "source": [
        "retrieval_qa_chat_prompt = hub.pull(\"langchain-ai/retrieval-qa-chat\")\n",
        "retriever = docsearch.as_retriever()\n",
        "\n",
        "groq_model = \"llama-3.2-90b-text-preview\"\n",
        "llm = ChatGroq(\n",
        "    model=groq_model\n",
        ")\n",
        "llm"
      ],
      "metadata": {
        "id": "yUR2be0vqi7P",
        "colab": {
          "base_uri": "https://localhost:8080/"
        },
        "outputId": "108e1dd6-e34d-4191-d304-7f241fd60d75"
      },
      "execution_count": null,
      "outputs": [
        {
          "output_type": "stream",
          "name": "stderr",
          "text": [
            "/usr/local/lib/python3.10/dist-packages/langsmith/client.py:241: LangSmithMissingAPIKeyWarning: API key must be provided when using hosted LangSmith API\n",
            "  warnings.warn(\n"
          ]
        },
        {
          "output_type": "execute_result",
          "data": {
            "text/plain": [
              "ChatGroq(client=<groq.resources.chat.completions.Completions object at 0x7de161dfc4f0>, async_client=<groq.resources.chat.completions.AsyncCompletions object at 0x7de161dfd1b0>, model_name='llama-3.2-90b-text-preview', model_kwargs={}, groq_api_key=SecretStr('**********'))"
            ]
          },
          "metadata": {},
          "execution_count": 15
        }
      ]
    },
    {
      "cell_type": "code",
      "source": [
        "combine_docs_chain = create_stuff_documents_chain(\n",
        "    llm, retrieval_qa_chat_prompt\n",
        ")\n",
        "\n",
        "retrieval_chain = create_retrieval_chain(retriever, combine_docs_chain)\n",
        "\n",
        "\n",
        "print(f\"\"\"\n",
        "retriever - {type(retriever)}\n",
        "combine_docs_chain - {type(combine_docs_chain)}\n",
        "retrieval_chain - {type(retrieval_chain)}\n",
        "\"\"\")"
      ],
      "metadata": {
        "colab": {
          "base_uri": "https://localhost:8080/"
        },
        "id": "lTlwmDfW4aPA",
        "outputId": "7aeef32d-8a4a-4ca1-8cb3-e2eaeb34a887"
      },
      "execution_count": null,
      "outputs": [
        {
          "output_type": "stream",
          "name": "stdout",
          "text": [
            "\n",
            "retriever - <class 'langchain_core.vectorstores.base.VectorStoreRetriever'>\n",
            "combine_docs_chain - <class 'langchain_core.runnables.base.RunnableBinding'>\n",
            "retrieval_chain - <class 'langchain_core.runnables.base.RunnableBinding'>\n",
            "\n"
          ]
        }
      ]
    },
    {
      "cell_type": "markdown",
      "source": [
        "### Questions\n",
        "\n",
        "Define a few questions about the `WonderVector5000`. These questions require specific, private knowledge of the product, which the LLM does not have by default."
      ],
      "metadata": {
        "id": "zMXVRg2g82Z9"
      }
    },
    {
      "cell_type": "code",
      "source": [
        "query1 = \"What are the first 3 steps for getting started with the WonderVector5000?\"\n",
        "\n",
        "query2 = \"The Neural Fandango Synchronizer is giving me a headache. What do I do?\"\n"
      ],
      "metadata": {
        "id": "AwJaBDtP9ELW"
      },
      "execution_count": null,
      "outputs": []
    },
    {
      "cell_type": "markdown",
      "source": [
        "### Send Query Without Context\n",
        "\n",
        "Send `query1` to the LLM without relevant context from Pinecone:\n",
        "\n"
      ],
      "metadata": {
        "id": "55plYaVr-GX8"
      }
    },
    {
      "cell_type": "code",
      "source": [
        "answer1_without_knowledge = llm.invoke(query1)\n",
        "\n",
        "print(\"Query 1:\", query1)\n",
        "print(\"\\nAnswer without knowledge:\\n\\n\", answer1_without_knowledge.content)\n",
        "print(\"\\n\")\n",
        "time.sleep(2)\n"
      ],
      "metadata": {
        "colab": {
          "base_uri": "https://localhost:8080/"
        },
        "id": "RzQRBY_t-LeT",
        "outputId": "8f000158-1615-4a6d-96d0-d12098c73a3c"
      },
      "execution_count": null,
      "outputs": [
        {
          "output_type": "stream",
          "name": "stdout",
          "text": [
            "Query 1: What are the first 3 steps for getting started with the WonderVector5000?\n",
            "\n",
            "Answer without knowledge:\n",
            "\n",
            " I'm not familiar with the WonderVector5000. It's possible that it's a fictional device, a product that I'm not trained on, or something that hasn't been widely released. Can you please provide more information about the WonderVector5000, such as its purpose or where you heard about it? I'll do my best to help you get started.\n",
            "\n",
            "\n"
          ]
        }
      ]
    },
    {
      "cell_type": "markdown",
      "source": [
        "Notice that above response its `doesn't` have a idea about the `WonderVector5000` and its assuming itself its a fictional & non-existent device. its asking for the context but in some other llm responses like this.\n",
        "\n",
        "```txt\n",
        "Query 1: What are the first 3 steps for getting started with the WonderVector5000?\n",
        "\n",
        "Answer without knowledge:\n",
        "\n",
        "To get started with the WonderVector5000, follow these initial steps:\n",
        "\n",
        "1. **Unboxing and Setup**: Carefully unbox the WonderVector5000 and ensure all components are included. Place the device on a stable surface and connect it to a power source using the provided power adapter.\n",
        "\n",
        "2. **Initial Configuration**: Power on the device and follow the on-screen instructions to set up your preferences. This may include selecting your language, connecting to Wi-Fi, and updating the firmware if necessary.\n",
        "\n",
        "3. **User Manual Review**: Familiarize yourself with the user manual or quick start guide that comes with the device. This will provide you with essential information about features, controls, and troubleshooting tips.\n",
        "\n",
        "Once these steps are completed, you can explore the full capabilities of the WonderVector5000!\n",
        "\n",
        "```\n",
        "\n",
        "this response clearly says its doesn't have idea about the wondervector5000 and its try to make up the content with existing knowledge its seeems to be convicing but its not the right answer the question, factually its wrong.\n"
      ],
      "metadata": {
        "id": "7C5kZGxK-jyg"
      }
    },
    {
      "cell_type": "markdown",
      "source": [
        "### Send Query With Context\n"
      ],
      "metadata": {
        "id": "lRYIPbwl_avr"
      }
    },
    {
      "cell_type": "code",
      "source": [
        "answer1_with_knowledge = retrieval_chain.invoke({\"input\": query1})\n",
        "\n",
        "print(\"Answer with knowledge:\\n\\n\", answer1_with_knowledge['answer'])\n",
        "print(\"\\nContext used:\\n\\n\", answer1_with_knowledge['context'])\n",
        "print(\"\\n\")\n",
        "time.sleep(2)\n"
      ],
      "metadata": {
        "colab": {
          "base_uri": "https://localhost:8080/"
        },
        "id": "0SLBnckE-jgR",
        "outputId": "05353a55-37ce-4bf0-c958-c5c28e3d0a43"
      },
      "execution_count": null,
      "outputs": [
        {
          "output_type": "stream",
          "name": "stdout",
          "text": [
            "Answer with knowledge:\n",
            "\n",
            " The first three steps to get started with the WonderVector5000 are:\n",
            "\n",
            "1. Unpack the Device: Remove the WonderVector5000 from its anti-gravitational packaging, ensuring to handle with care to avoid disturbing the delicate balance of its components.\n",
            "\n",
            "2. Initiate the Quantum Flibberflabber Engine: Locate the translucent lever marked “QFE Start” and pull it gently. You should notice a slight shimmer in the air as the engine engages, indicating that quantum flibberflabber is in effect.\n",
            "\n",
            "3. Calibrate the Hyperbolic Singularity Matrix: Turn the dials labeled \"Infinity A\" and \"Infinity B\" until the matrix stabilizes. You’ll know it's calibrated correctly when the display shows a single, stable “∞”.\n",
            "\n",
            "Context used:\n",
            "\n",
            " [Document(id='c7ef2ae4-f93f-4849-b67f-278597e26791', metadata={'header_2': 'Getting started'}, page_content='## Getting started  \\nSetting up your WonderVector5000 is both simple and absurdly intricate. Follow these steps to unleash the full potential of your new device:  \\n1. Unpack the Device: Remove the WonderVector5000 from its anti-gravitational packaging, ensuring to handle with care to avoid disturbing the delicate balance of its components.  \\n2. Initiate the Quantum Flibberflabber Engine: Locate the translucent lever marked “QFE Start” and pull it gently. You should notice a slight shimmer in the air as the engine engages, indicating that quantum flibberflabber is in effect.  \\n3. Calibrate the Hyperbolic Singularity Matrix: Turn the dials labeled \"Infinity A\" and \"Infinity B\" until the matrix stabilizes. You’ll know it\\'s calibrated correctly when the display shows a single, stable “∞”.  \\n4. Engage the Aetherial Flux Capacitor: Insert the EtherKey into the designated slot and turn it clockwise. A faint humming sound should confirm that the aetherial flux capacitor is active.  \\n5. Activate the Multi-Dimensional Holo-Interface: Press the button resembling a floating question mark to activate the holo-interface. The controls should materialize before your eyes, slightly out of phase with reality.  \\n6. Synchronize the Neural Fandango Synchronizer: Place the neural headband on your forehead and think of the word “Wonder”. The device will sync with your thoughts, a process that should take just a few moments.  \\n7. Set the Chrono-Distortion Field: Use the temporal sliders to adjust the time settings. Recommended presets include “Past”, “Present”, and “Future”, though feel free to explore other, more abstract temporal states.'), Document(id='629821bd-c8c6-429b-91d8-9ac30343de40', metadata={'header_2': 'Getting started'}, page_content='## Getting started  \\nSetting up your WonderVector5000 is both simple and absurdly intricate. Follow these steps to unleash the full potential of your new device:  \\n1. Unpack the Device: Remove the WonderVector5000 from its anti-gravitational packaging, ensuring to handle with care to avoid disturbing the delicate balance of its components.  \\n2. Initiate the Quantum Flibberflabber Engine: Locate the translucent lever marked “QFE Start” and pull it gently. You should notice a slight shimmer in the air as the engine engages, indicating that quantum flibberflabber is in effect.  \\n3. Calibrate the Hyperbolic Singularity Matrix: Turn the dials labeled \"Infinity A\" and \"Infinity B\" until the matrix stabilizes. You’ll know it\\'s calibrated correctly when the display shows a single, stable “∞”.  \\n4. Engage the Aetherial Flux Capacitor: Insert the EtherKey into the designated slot and turn it clockwise. A faint humming sound should confirm that the aetherial flux capacitor is active.  \\n5. Activate the Multi-Dimensional Holo-Interface: Press the button resembling a floating question mark to activate the holo-interface. The controls should materialize before your eyes, slightly out of phase with reality.  \\n6. Synchronize the Neural Fandango Synchronizer: Place the neural headband on your forehead and think of the word “Wonder”. The device will sync with your thoughts, a process that should take just a few moments.  \\n7. Set the Chrono-Distortion Field: Use the temporal sliders to adjust the time settings. Recommended presets include “Past”, “Present”, and “Future”, though feel free to explore other, more abstract temporal states.'), Document(id='1598c219-accc-4e9c-95d2-c3198f7b4f85', metadata={'header_2': 'Introduction'}, page_content=\"# The WonderVector5000: A Journey into Absurd Innovation  \\n## Introduction  \\nWelcome to the whimsical world of the WonderVector5000, an astonishing leap into the realms of imaginative technology. This extraordinary device, borne of creative fancy, promises to revolutionize absolutely nothing while dazzling you with its fantastical features. Whether you're a seasoned technophile or just someone looking for a bit of fun, the WonderVector5000 is sure to leave you amused and bemused in equal measure. Let's explore the incredible, albeit entirely fictitious, specifications, setup process, and troubleshooting tips for this marvel of modern nonsense.\"), Document(id='bed1915d-3e5e-4957-8d77-4349393d5e62', metadata={'header_2': 'Introduction'}, page_content=\"# The WonderVector5000: A Journey into Absurd Innovation  \\n## Introduction  \\nWelcome to the whimsical world of the WonderVector5000, an astonishing leap into the realms of imaginative technology. This extraordinary device, borne of creative fancy, promises to revolutionize absolutely nothing while dazzling you with its fantastical features. Whether you're a seasoned technophile or just someone looking for a bit of fun, the WonderVector5000 is sure to leave you amused and bemused in equal measure. Let's explore the incredible, albeit entirely fictitious, specifications, setup process, and troubleshooting tips for this marvel of modern nonsense.\")]\n",
            "\n",
            "\n"
          ]
        }
      ]
    },
    {
      "cell_type": "markdown",
      "source": [
        "The second response is very closely matching with the wondervector500 document."
      ],
      "metadata": {
        "id": "sS9V3p6BAaQv"
      }
    },
    {
      "cell_type": "markdown",
      "source": [
        "### Query 2"
      ],
      "metadata": {
        "id": "gK0Wv97oAxEl"
      }
    },
    {
      "cell_type": "code",
      "source": [
        "answer2_without_knowledge = llm.invoke(query2)\n",
        "\n",
        "print(\"Query 2:\", query2)\n",
        "print(\"\\nAnswer without knowledge:\\n\\n\", answer2_without_knowledge.content)\n",
        "print(\"\\n\")\n",
        "time.sleep(2)"
      ],
      "metadata": {
        "colab": {
          "base_uri": "https://localhost:8080/"
        },
        "id": "s7Ii9yInAmoS",
        "outputId": "7318f269-da1b-4b90-d50f-f4713596d308"
      },
      "execution_count": null,
      "outputs": [
        {
          "output_type": "stream",
          "name": "stdout",
          "text": [
            "Query 2: The Neural Fandango Synchronizer is giving me a headache. What do I do?\n",
            "\n",
            "Answer without knowledge:\n",
            "\n",
            " I'm happy to try and help you, but I have to admit that I've never heard of a \"Neural Fandango Synchronizer\" before. It sounds like it could be a fictional or humorous term. \n",
            "\n",
            "If you're experiencing a headache, I would recommend trying some general relaxation techniques, such as taking a few deep breaths, stretching, or stepping away from whatever task you're working on for a few minutes.\n",
            "\n",
            "However, if you're experiencing persistent or severe headaches, I would recommend speaking with a medical professional to rule out any underlying health issues.\n",
            "\n",
            "If the Neural Fandango Synchronizer is a real device or software, could you please provide more context or information about it? I'd be happy to try and help you troubleshoot or find a solution.\n",
            "\n",
            "\n"
          ]
        }
      ]
    },
    {
      "cell_type": "markdown",
      "source": [
        "The above response not seems to be fabricated but sometimes models with less Parameters like 1B or 3B models can do the fabrication, any how we used the 70B models its more understandable that's why its not fabricating, even though it doesn't have a knowledge."
      ],
      "metadata": {
        "id": "WTQqwH3lBTak"
      }
    },
    {
      "cell_type": "code",
      "source": [
        "# Try again, but this time provide the right contexst from Pinecone:\n",
        "\n",
        "\n",
        "answer2_with_knowledge = retrieval_chain.invoke({\"input\": query2})\n",
        "\n",
        "print(\"\\nAnswer with knowledge:\\n\\n\", answer2_with_knowledge['answer'])\n",
        "print(\"\\nContext Used:\\n\\n\", answer2_with_knowledge['context'])\n",
        "print(\"\\n\")\n",
        "time.sleep(2)\n"
      ],
      "metadata": {
        "id": "j-BBg2A9BLJL",
        "colab": {
          "base_uri": "https://localhost:8080/"
        },
        "outputId": "4d8599c5-ed0e-464a-eb30-23eafdbc1469"
      },
      "execution_count": null,
      "outputs": [
        {
          "output_type": "stream",
          "name": "stdout",
          "text": [
            "\n",
            "Answer with knowledge:\n",
            "\n",
            " According to the troubleshooting section, if the Neural Fandango Synchronizer causes headaches, you should ensure the headband is properly positioned and not too tight. Relax and focus on simple, calming thoughts to ease the synchronization process.\n",
            "\n",
            "Context Used:\n",
            "\n",
            " [Document(id='1ed246a5-719e-44bc-82e6-4e44d67f2d72', metadata={'header_2': 'Troubleshooting'}, page_content=\"## Troubleshooting  \\nEven a device as fantastically designed as the WonderVector5000 can encounter problems. Here are some common issues and their solutions:  \\n- Issue: The Quantum Flibberflabber Engine won't start.  \\n- Solution: Ensure the anti-gravitational packaging has been completely removed. Check for any residual shards of improbability that might be obstructing the engine.  \\n- Issue: The Hyperbolic Singularity Matrix displays “∞∞”.  \\n- Solution: This indicates a hyper-infinite loop. Reset the dials to zero and then adjust them slowly until the display shows a single, stable infinity symbol.  \\n- Issue: The Aetherial Flux Capacitor isn't engaging.  \\n- Solution: Verify that the EtherKey is properly inserted and genuine. Counterfeit EtherKeys can often cause malfunctions. Replace with an authenticated EtherKey if necessary.  \\n- Issue: The Multi-Dimensional Holo-Interface shows garbled projections.  \\n- Solution: Realign the temporal resonators by tapping the holographic screen three times in quick succession. This should stabilize the projections.  \\n- Issue: The Neural Fandango Synchronizer causes headaches.  \\n- Solution: Ensure the headband is properly positioned and not too tight. Relax and focus on simple, calming thoughts to ease the synchronization process.  \\n- Issue: The Chrono-Distortion Field is stuck in the past.  \\n- Solution: Increase the temporal flux by 5%. If this fails, perform a hard reset by holding down the “Future” slider for ten seconds.\"), Document(id='6123141b-5410-442c-a094-774823498113', metadata={'header_2': 'Troubleshooting'}, page_content=\"## Troubleshooting  \\nEven a device as fantastically designed as the WonderVector5000 can encounter problems. Here are some common issues and their solutions:  \\n- Issue: The Quantum Flibberflabber Engine won't start.  \\n- Solution: Ensure the anti-gravitational packaging has been completely removed. Check for any residual shards of improbability that might be obstructing the engine.  \\n- Issue: The Hyperbolic Singularity Matrix displays “∞∞”.  \\n- Solution: This indicates a hyper-infinite loop. Reset the dials to zero and then adjust them slowly until the display shows a single, stable infinity symbol.  \\n- Issue: The Aetherial Flux Capacitor isn't engaging.  \\n- Solution: Verify that the EtherKey is properly inserted and genuine. Counterfeit EtherKeys can often cause malfunctions. Replace with an authenticated EtherKey if necessary.  \\n- Issue: The Multi-Dimensional Holo-Interface shows garbled projections.  \\n- Solution: Realign the temporal resonators by tapping the holographic screen three times in quick succession. This should stabilize the projections.  \\n- Issue: The Neural Fandango Synchronizer causes headaches.  \\n- Solution: Ensure the headband is properly positioned and not too tight. Relax and focus on simple, calming thoughts to ease the synchronization process.  \\n- Issue: The Chrono-Distortion Field is stuck in the past.  \\n- Solution: Increase the temporal flux by 5%. If this fails, perform a hard reset by holding down the “Future” slider for ten seconds.\"), Document(id='c7ef2ae4-f93f-4849-b67f-278597e26791', metadata={'header_2': 'Getting started'}, page_content='## Getting started  \\nSetting up your WonderVector5000 is both simple and absurdly intricate. Follow these steps to unleash the full potential of your new device:  \\n1. Unpack the Device: Remove the WonderVector5000 from its anti-gravitational packaging, ensuring to handle with care to avoid disturbing the delicate balance of its components.  \\n2. Initiate the Quantum Flibberflabber Engine: Locate the translucent lever marked “QFE Start” and pull it gently. You should notice a slight shimmer in the air as the engine engages, indicating that quantum flibberflabber is in effect.  \\n3. Calibrate the Hyperbolic Singularity Matrix: Turn the dials labeled \"Infinity A\" and \"Infinity B\" until the matrix stabilizes. You’ll know it\\'s calibrated correctly when the display shows a single, stable “∞”.  \\n4. Engage the Aetherial Flux Capacitor: Insert the EtherKey into the designated slot and turn it clockwise. A faint humming sound should confirm that the aetherial flux capacitor is active.  \\n5. Activate the Multi-Dimensional Holo-Interface: Press the button resembling a floating question mark to activate the holo-interface. The controls should materialize before your eyes, slightly out of phase with reality.  \\n6. Synchronize the Neural Fandango Synchronizer: Place the neural headband on your forehead and think of the word “Wonder”. The device will sync with your thoughts, a process that should take just a few moments.  \\n7. Set the Chrono-Distortion Field: Use the temporal sliders to adjust the time settings. Recommended presets include “Past”, “Present”, and “Future”, though feel free to explore other, more abstract temporal states.'), Document(id='629821bd-c8c6-429b-91d8-9ac30343de40', metadata={'header_2': 'Getting started'}, page_content='## Getting started  \\nSetting up your WonderVector5000 is both simple and absurdly intricate. Follow these steps to unleash the full potential of your new device:  \\n1. Unpack the Device: Remove the WonderVector5000 from its anti-gravitational packaging, ensuring to handle with care to avoid disturbing the delicate balance of its components.  \\n2. Initiate the Quantum Flibberflabber Engine: Locate the translucent lever marked “QFE Start” and pull it gently. You should notice a slight shimmer in the air as the engine engages, indicating that quantum flibberflabber is in effect.  \\n3. Calibrate the Hyperbolic Singularity Matrix: Turn the dials labeled \"Infinity A\" and \"Infinity B\" until the matrix stabilizes. You’ll know it\\'s calibrated correctly when the display shows a single, stable “∞”.  \\n4. Engage the Aetherial Flux Capacitor: Insert the EtherKey into the designated slot and turn it clockwise. A faint humming sound should confirm that the aetherial flux capacitor is active.  \\n5. Activate the Multi-Dimensional Holo-Interface: Press the button resembling a floating question mark to activate the holo-interface. The controls should materialize before your eyes, slightly out of phase with reality.  \\n6. Synchronize the Neural Fandango Synchronizer: Place the neural headband on your forehead and think of the word “Wonder”. The device will sync with your thoughts, a process that should take just a few moments.  \\n7. Set the Chrono-Distortion Field: Use the temporal sliders to adjust the time settings. Recommended presets include “Past”, “Present”, and “Future”, though feel free to explore other, more abstract temporal states.')]\n",
            "\n",
            "\n"
          ]
        }
      ]
    },
    {
      "cell_type": "markdown",
      "source": [
        "### Clean Up\n",
        "\n",
        "When you no longer need the `rag-getting-started` index, use the delete_index operation to delete it:"
      ],
      "metadata": {
        "id": "lPfBHyJac8m3"
      }
    },
    {
      "cell_type": "code",
      "source": [
        "index_name = \"rag-getting-started\"\n",
        "pc.delete_index(index_name)"
      ],
      "metadata": {
        "id": "lvKh-mUXdEIp"
      },
      "execution_count": null,
      "outputs": []
    },
    {
      "cell_type": "markdown",
      "source": [
        "# Multitenancy\n",
        "\n",
        "\n",
        "`Multitenancy` is a software architecture where a single instance of a system serves multiple customers, or tenants, while ensuring data isolation between them for privacy and security.\n",
        "\n",
        "This page shows you how to implement multitenancy in Pinecone using a serverless index with one namespace per tenant.\n",
        "\n",
        "\n",
        "## How it works\n",
        "![image](https://i.imgur.com/RlZnemc.png)\n"
      ],
      "metadata": {
        "id": "44FxSmWt80jA"
      }
    },
    {
      "cell_type": "code",
      "source": [
        "pc = Pinecone(api_key=os.getenv('PINECONE_API_KEY'))"
      ],
      "metadata": {
        "id": "iAEd7yrKUywj"
      },
      "execution_count": null,
      "outputs": []
    },
    {
      "cell_type": "markdown",
      "source": [
        "## Create a serverless index"
      ],
      "metadata": {
        "id": "vX33mAnfMvRE"
      }
    },
    {
      "cell_type": "code",
      "source": [
        "\n",
        "spec = ServerlessSpec(cloud=\"aws\", region=\"us-east-1\")\n",
        "\n",
        "index_name = \"multitenant-app\"\n",
        "\n",
        "if index_name not in pc.list_indexes().names():\n",
        "    pc.create_index(\n",
        "        name=index_name,\n",
        "        dimension=8,\n",
        "        metric=\"cosine\",\n",
        "        spec=spec\n",
        "    )\n",
        "    print(\"Index Created Sucessfully\")\n",
        "else:\n",
        "    print(\"Index Already Created\")"
      ],
      "metadata": {
        "colab": {
          "base_uri": "https://localhost:8080/"
        },
        "id": "2Wcm9yGdMzX1",
        "outputId": "ebbc6387-bd50-47cd-a5fe-a76e0b785aa8"
      },
      "execution_count": null,
      "outputs": [
        {
          "output_type": "stream",
          "name": "stdout",
          "text": [
            "Index Created Sucessfully\n"
          ]
        }
      ]
    },
    {
      "cell_type": "markdown",
      "source": [
        "## Isolate tenant data\n",
        "\n",
        "In a multitenant solution, you need to isolate data between tenants. To achieve this in Pinecone, use one `namespace` per tenant.\n",
        "\n",
        "Note:\n",
        "- In serverless architecture each name space stored sepereately. physical isolation.\n",
        "\n",
        "Lets update the data into the namespace `tentant1` & `tentant2` into the `multitenant-app` index"
      ],
      "metadata": {
        "id": "YvusZukwTIow"
      }
    },
    {
      "cell_type": "code",
      "source": [
        "index_name = \"multitenant-app\"\n",
        "\n",
        "index = pc.Index(index_name)\n",
        "\n",
        "index.upsert(\n",
        "  vectors=[\n",
        "    {\"id\": \"A\", \"values\": [0.1, 0.1, 0.1, 0.1, 0.1, 0.1, 0.1, 0.1]},\n",
        "    {\"id\": \"B\", \"values\": [0.2, 0.2, 0.2, 0.2, 0.2, 0.2, 0.2, 0.2]},\n",
        "    {\"id\": \"C\", \"values\": [0.3, 0.3, 0.3, 0.3, 0.3, 0.3, 0.3, 0.3]},\n",
        "    {\"id\": \"D\", \"values\": [0.4, 0.4, 0.4, 0.4, 0.4, 0.4, 0.4, 0.4]}\n",
        "  ],\n",
        "  namespace=\"tenant1\"\n",
        ")\n",
        "\n",
        "\n",
        "index.upsert(\n",
        "  vectors=[\n",
        "    {\"id\": \"E\", \"values\": [0.5, 0.5, 0.5, 0.5, 0.5, 0.5, 0.5, 0.5]},\n",
        "    {\"id\": \"F\", \"values\": [0.6, 0.6, 0.6, 0.6, 0.6, 0.6, 0.6, 0.6]},\n",
        "    {\"id\": \"G\", \"values\": [0.7, 0.7, 0.7, 0.7, 0.7, 0.7, 0.7, 0.7]},\n",
        "    {\"id\": \"H\", \"values\": [0.8, 0.8, 0.8, 0.8, 0.8, 0.8, 0.8, 0.8]}\n",
        "  ],\n",
        "  namespace=\"tenant2\"\n",
        ")"
      ],
      "metadata": {
        "colab": {
          "base_uri": "https://localhost:8080/"
        },
        "id": "dtM1d4TeTvge",
        "outputId": "9fea66ce-d92c-48d2-f89a-b9a5c689ec8c"
      },
      "execution_count": null,
      "outputs": [
        {
          "output_type": "execute_result",
          "data": {
            "text/plain": [
              "{'upserted_count': 4}"
            ]
          },
          "metadata": {},
          "execution_count": 23
        }
      ]
    },
    {
      "cell_type": "markdown",
      "source": [
        "For `upsert`, `update`, `delete` records have to specify the `namespace`"
      ],
      "metadata": {
        "id": "01WAF_nFUikY"
      }
    },
    {
      "cell_type": "code",
      "source": [
        "index = pc.Index(\"multitenant-app\")\n",
        "\n",
        "# Changing the Embedding values\n",
        "index.update(id=\"A\", values=[0.1, 0.2, 0.3, 0.4, 0.5, 0.6, 0.7, 0.8], namespace=\"tenant1\")\n"
      ],
      "metadata": {
        "colab": {
          "base_uri": "https://localhost:8080/"
        },
        "id": "KjfGtijCUtUJ",
        "outputId": "ac7c6fce-e240-4e7e-8f1d-21f421687f1f"
      },
      "execution_count": null,
      "outputs": [
        {
          "output_type": "execute_result",
          "data": {
            "text/plain": [
              "{}"
            ]
          },
          "metadata": {},
          "execution_count": 25
        }
      ]
    },
    {
      "cell_type": "markdown",
      "source": [
        "## Query tenant data\n",
        "\n",
        "In multitenant solutions, have ensure that the queries of one tenant should not affect the other tenannt/customer experience. to achive that we have to use the name space to achive that."
      ],
      "metadata": {
        "id": "9ozf7l55VhHj"
      }
    },
    {
      "cell_type": "code",
      "source": [
        "index_name = \"multitenant-app\"\n",
        "\n",
        "index = pc.Index(index_name)\n",
        "\n",
        "query_results = index.query(\n",
        "    namespace=\"tenant2\",\n",
        "    vector=[0.7, 0.7, 0.7, 0.7, 0.7, 0.7, 0.7, 0.7],\n",
        "    top_k=3,\n",
        "    include_values=True\n",
        ")\n",
        "\n",
        "print(query_results)"
      ],
      "metadata": {
        "colab": {
          "base_uri": "https://localhost:8080/"
        },
        "id": "JULCY7c6WEuL",
        "outputId": "fe5ffe21-6ed2-4bbd-8040-ee92e7e4ea1b"
      },
      "execution_count": null,
      "outputs": [
        {
          "output_type": "stream",
          "name": "stdout",
          "text": [
            "{'matches': [{'id': 'F',\n",
            "              'score': 1.00000012,\n",
            "              'values': [0.6, 0.6, 0.6, 0.6, 0.6, 0.6, 0.6, 0.6]},\n",
            "             {'id': 'G',\n",
            "              'score': 1.0,\n",
            "              'values': [0.7, 0.7, 0.7, 0.7, 0.7, 0.7, 0.7, 0.7]},\n",
            "             {'id': 'E',\n",
            "              'score': 1.0,\n",
            "              'values': [0.5, 0.5, 0.5, 0.5, 0.5, 0.5, 0.5, 0.5]}],\n",
            " 'namespace': 'tenant2',\n",
            " 'usage': {'read_units': 6}}\n"
          ]
        }
      ]
    },
    {
      "cell_type": "markdown",
      "source": [
        "## Offboard a tenant\n",
        "\n",
        "I'n multitenant solution you can offboard a tenant and delete all records to achive this in pinecone you just delete the namespace for a specific tenant."
      ],
      "metadata": {
        "id": "JYGPwceOXyvP"
      }
    },
    {
      "cell_type": "code",
      "source": [
        "index = pc.Index(\"multitenant-app\")\n",
        "\n",
        "index.delete(delete_all=True, namespace=\"tenant1\")"
      ],
      "metadata": {
        "colab": {
          "base_uri": "https://localhost:8080/"
        },
        "id": "U-kfjipFbOQu",
        "outputId": "9f55e3ec-9bb9-4433-a62e-1f3232869336"
      },
      "execution_count": null,
      "outputs": [
        {
          "output_type": "execute_result",
          "data": {
            "text/plain": [
              "{}"
            ]
          },
          "metadata": {},
          "execution_count": 26
        }
      ]
    },
    {
      "cell_type": "markdown",
      "source": [
        "# Protected Index\n",
        "\n",
        "If the Deletion production enabled we can't delete the index from the `code` or `UI`\n",
        "\n",
        "```py\n",
        "deletion_protection='enabled'\n",
        "```"
      ],
      "metadata": {
        "id": "rt2xCQXsoqnT"
      }
    },
    {
      "cell_type": "code",
      "source": [
        "pc = Pinecone(api_key=os.getenv('PINECONE_API_KEY'))\n",
        "index_name = \"protected-index-app\"\n"
      ],
      "metadata": {
        "id": "yEsuz3_RotCb"
      },
      "execution_count": 9,
      "outputs": []
    },
    {
      "cell_type": "code",
      "source": [
        "spec = ServerlessSpec(cloud=\"aws\", region=\"us-east-1\")\n",
        "\n",
        "\n",
        "if index_name not in pc.list_indexes().names():\n",
        "    pc.create_index(\n",
        "        name=index_name,\n",
        "        dimension=8,\n",
        "        metric=\"cosine\",\n",
        "        spec=spec,\n",
        "        deletion_protection='enabled'\n",
        "    )\n",
        "    print(\"Index Created Sucessfully\")\n",
        "else:\n",
        "    print(\"Index Already Created\")"
      ],
      "metadata": {
        "colab": {
          "base_uri": "https://localhost:8080/"
        },
        "id": "jUsrIuQ2o-_O",
        "outputId": "8b0fe8ea-3afc-4285-bf44-e985b66cd817"
      },
      "execution_count": 18,
      "outputs": [
        {
          "output_type": "stream",
          "name": "stdout",
          "text": [
            "Index Created Sucessfully\n"
          ]
        }
      ]
    },
    {
      "cell_type": "code",
      "source": [
        "\n",
        "index = pc.Index(index_name)\n",
        "\n",
        "index.upsert(\n",
        "  vectors=[\n",
        "    {\"id\": \"A\", \"values\": [0.1, 0.1, 0.1, 0.1, 0.1, 0.1, 0.1, 0.1]},\n",
        "    {\"id\": \"B\", \"values\": [0.2, 0.2, 0.2, 0.2, 0.2, 0.2, 0.2, 0.2]},\n",
        "    {\"id\": \"C\", \"values\": [0.3, 0.3, 0.3, 0.3, 0.3, 0.3, 0.3, 0.3]},\n",
        "    {\"id\": \"D\", \"values\": [0.4, 0.4, 0.4, 0.4, 0.4, 0.4, 0.4, 0.4]}\n",
        "  ],\n",
        "  namespace=\"tenant1\"\n",
        ")\n",
        "\n",
        "\n",
        "index.upsert(\n",
        "  vectors=[\n",
        "    {\"id\": \"E\", \"values\": [0.5, 0.5, 0.5, 0.5, 0.5, 0.5, 0.5, 0.5]},\n",
        "    {\"id\": \"F\", \"values\": [0.6, 0.6, 0.6, 0.6, 0.6, 0.6, 0.6, 0.6]},\n",
        "    {\"id\": \"G\", \"values\": [0.7, 0.7, 0.7, 0.7, 0.7, 0.7, 0.7, 0.7]},\n",
        "    {\"id\": \"H\", \"values\": [0.8, 0.8, 0.8, 0.8, 0.8, 0.8, 0.8, 0.8]}\n",
        "  ],\n",
        "  namespace=\"tenant2\"\n",
        ")"
      ],
      "metadata": {
        "colab": {
          "base_uri": "https://localhost:8080/"
        },
        "id": "9PDr5yeFo1Yc",
        "outputId": "58d1ca65-c961-4a33-d5d9-ff9d6416dc03"
      },
      "execution_count": 19,
      "outputs": [
        {
          "output_type": "execute_result",
          "data": {
            "text/plain": [
              "{'upserted_count': 4}"
            ]
          },
          "metadata": {},
          "execution_count": 19
        }
      ]
    },
    {
      "cell_type": "markdown",
      "source": [
        "## Delete Index"
      ],
      "metadata": {
        "id": "rxAoyp5Sp30S"
      }
    },
    {
      "cell_type": "code",
      "source": [
        "try:\n",
        "    pc.delete_index(index_name)\n",
        "    print(f\"Index {index_name} deleted sucessfully\")\n",
        "except Exception as ex:\n",
        "    print(traceback.format_exc())"
      ],
      "metadata": {
        "colab": {
          "base_uri": "https://localhost:8080/"
        },
        "id": "UWzmZxlnp5m7",
        "outputId": "02d24e37-1040-4009-e9b6-34155431f0c6"
      },
      "execution_count": 22,
      "outputs": [
        {
          "output_type": "stream",
          "name": "stdout",
          "text": [
            "Index producted-index-app deleted sucessfully\n"
          ]
        }
      ]
    },
    {
      "cell_type": "markdown",
      "source": [
        "## Disable deletion protection\n",
        "\n",
        "Before you can delete an index with deletion protection enabled, you must first disable deletion protection as follows:"
      ],
      "metadata": {
        "id": "EVPWxoupsUTQ"
      }
    },
    {
      "cell_type": "code",
      "source": [
        "pc.configure_index(\n",
        "   name=index_name,\n",
        "   deletion_protection=\"disabled\"\n",
        ")"
      ],
      "metadata": {
        "id": "Fu0lq2KNsVcw"
      },
      "execution_count": 21,
      "outputs": []
    },
    {
      "cell_type": "markdown",
      "source": [
        "Now check in the `UI` you can see its showing the delete button"
      ],
      "metadata": {
        "id": "ABbRQpsMsgGS"
      }
    },
    {
      "cell_type": "markdown",
      "source": [
        "# [Tag an index](https://docs.pinecone.io/guides/indexes/tag-an-index)\n",
        "\n",
        "After Running the command you can cheeck in the `UI`\n",
        "\n",
        "![image](https://i.imgur.com/hM68TTA.png)\n",
        "\n",
        "Please ensure the the index already exist."
      ],
      "metadata": {
        "id": "8HLEl2ZHu_hy"
      }
    },
    {
      "cell_type": "code",
      "source": [
        "curl_command = \"\"\"\n",
        "curl -s -X PATCH \"https://api.pinecone.io/indexes/sample-movies\" \\\n",
        "    -H \"Content-Type: application/json\" \\\n",
        "    -H \"Api-Key: $PINECONE_API_KEY\" \\\n",
        "    -H \"X-Pinecone-API-Version: 2024-10\" \\\n",
        "    -d '{\n",
        "        \"tags\": {\n",
        "              \"category\": \"movies\",\n",
        "              \"genre\": \"all\",\n",
        "              \"purpose\": \"recommendation\",\n",
        "              \"dataset\": \"movie-lens\",\n",
        "              \"team\": \"data-science\"\n",
        "          }\n",
        "        }'\n",
        "\"\"\"\n",
        "!{curl_command}"
      ],
      "metadata": {
        "colab": {
          "base_uri": "https://localhost:8080/"
        },
        "id": "xzesU1t3xUI3",
        "outputId": "4ecd238a-cfe3-4155-db6a-0802768dde97"
      },
      "execution_count": 38,
      "outputs": [
        {
          "output_type": "stream",
          "name": "stdout",
          "text": [
            "{\"name\":\"sample-movies\",\"metric\":\"cosine\",\"dimension\":1024,\"status\":{\"ready\":true,\"state\":\"Ready\"},\"host\":\"sample-movies-6d4gcdl.svc.aped-4627-b74a.pinecone.io\",\"spec\":{\"serverless\":{\"region\":\"us-east-1\",\"cloud\":\"aws\"}},\"deletion_protection\":\"disabled\",\"tags\":{\"category\":\"movies\",\"dataset\":\"movie-lens\",\"genre\":\"all\",\"purpose\":\"recommendation\",\"team\":\"data-science\"}}"
          ]
        }
      ]
    }
  ]
}